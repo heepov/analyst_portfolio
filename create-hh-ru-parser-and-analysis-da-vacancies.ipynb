{
 "cells": [
  {
   "cell_type": "markdown",
   "id": "9d5743cd",
   "metadata": {
    "papermill": {
     "duration": 0.012306,
     "end_time": "2022-11-22T10:48:27.534572",
     "exception": false,
     "start_time": "2022-11-22T10:48:27.522266",
     "status": "completed"
    },
    "tags": []
   },
   "source": [
    "* [Задачи](#task)\n",
    "* [Доп. функции](#extra_funcs)\n",
    "* [Функции для парсера](#parcer_funcs)\n",
    "    - [Функция для поиска вакансий по заданным параметрам](#func_find_ids)\n",
    "    - [Функция обработки вакансии для добавления в таблицу](#func_fill_row)\n",
    "    - [Функция создания и заполнения таблицы вакансий](#func_ceate_df)\n",
    "    - [Форматная предобработка данных в таблице](#func_table_processing)\n",
    "* [Парсим данные или читаем данные из файла](#main)\n",
    "    - [Вывод](#main_conclusion)\n",
    "* [Обработка данных](#data_processing)\n",
    "    - [Удаление явных дубликатов](#data_drop_dublicates)\n",
    "    - [Обработка валютных вакансий](#data_processing_usd)\n",
    "    - [Добавление новых столбцов](#data_add_new_column)\n",
    "* [Анализ зарплат](#data_analysis_salary)\n",
    "    - [Анализ зарплат \"от/до\"](#data_salary_from_to)\n",
    "    - [Зависимость зарплаты \"от/до\" от опыта](#data_salary_to_lvl)\n",
    "    - [Анализ среднего зарплаты](#data_salary_mean)\n",
    "    - [Вывод](#data_salary_conclusion)\n",
    "    - [Зависимость зарплаты от города](#data_salary_city)\n",
    "    - [Вывод](#data_salary_city_conclusion)\n",
    "* [Анализ навыков и описания вакансий](#data_skills_description)\n",
    "    - [Анализ ключевых навыков](#data_skills)\n",
    "    - [Анализ описания вакансий](#data_description)\n",
    "    - [Сравнение ключевых навыков между уровнями вакансий](#data_skills_to_lvl)\n",
    "    - [Вывод](#data_skills_conclusion)\n",
    "* [Общие выводы](#final_conclusion)"
   ]
  },
  {
   "cell_type": "markdown",
   "id": "0c33c2bc",
   "metadata": {
    "papermill": {
     "duration": 0.012208,
     "end_time": "2022-11-22T10:48:27.558185",
     "exception": false,
     "start_time": "2022-11-22T10:48:27.545977",
     "status": "completed"
    },
    "tags": []
   },
   "source": [
    "<a id=\"task\"></a>\n",
    "## Задачи\n",
    "С помощью `api` написать парсер с ресурса `hh.ru`. С возможностью персонализированного запроса данных. Упаковать всю нужную информацию в таблицу (а так же сохранить в файл). \n",
    "\n",
    "Обработать данные в таблице. Проанализировать зарплаты и посмотреть на зависимости.\n",
    "\n",
    "Составить ТОПы ключевых навыков и самых часто повторяющихся слов в описаниях вакансий. Определить отличия навыков в зависимости от уровня профессионализма. \n",
    "\n",
    "Написать общий вывод."
   ]
  },
  {
   "cell_type": "code",
   "execution_count": 1,
   "id": "b10b1c2c",
   "metadata": {
    "execution": {
     "iopub.execute_input": "2022-11-22T10:48:27.583195Z",
     "iopub.status.busy": "2022-11-22T10:48:27.582464Z",
     "iopub.status.idle": "2022-11-22T10:48:28.776320Z",
     "shell.execute_reply": "2022-11-22T10:48:28.774650Z"
    },
    "papermill": {
     "duration": 1.209431,
     "end_time": "2022-11-22T10:48:28.778887",
     "exception": false,
     "start_time": "2022-11-22T10:48:27.569456",
     "status": "completed"
    },
    "tags": []
   },
   "outputs": [],
   "source": [
    "import requests\n",
    "import pandas as pd\n",
    "import re\n",
    "from IPython.display import clear_output\n",
    "import sys\n",
    "import matplotlib.pyplot as plt\n",
    "import seaborn as se\n",
    "import numpy as np\n",
    "from IPython.core.display import display, HTML\n",
    "\n",
    "pd.set_option('display.max_columns', None)"
   ]
  },
  {
   "cell_type": "markdown",
   "id": "fe844e77",
   "metadata": {
    "papermill": {
     "duration": 0.011119,
     "end_time": "2022-11-22T10:48:28.802166",
     "exception": false,
     "start_time": "2022-11-22T10:48:28.791047",
     "status": "completed"
    },
    "tags": []
   },
   "source": [
    "<a id=\"extra_funcs\"></a>\n",
    "## Функции для работы с выводом\n",
    "Для удобного отображения данных"
   ]
  },
  {
   "cell_type": "markdown",
   "id": "ccc1967f",
   "metadata": {
    "papermill": {
     "duration": 0.011006,
     "end_time": "2022-11-22T10:48:28.824544",
     "exception": false,
     "start_time": "2022-11-22T10:48:28.813538",
     "status": "completed"
    },
    "tags": []
   },
   "source": [
    "### Функция для удобного вывода таблиц рядом с друг другом."
   ]
  },
  {
   "cell_type": "code",
   "execution_count": 2,
   "id": "c473d78e",
   "metadata": {
    "execution": {
     "iopub.execute_input": "2022-11-22T10:48:28.848764Z",
     "iopub.status.busy": "2022-11-22T10:48:28.848456Z",
     "iopub.status.idle": "2022-11-22T10:48:28.853987Z",
     "shell.execute_reply": "2022-11-22T10:48:28.853261Z"
    },
    "papermill": {
     "duration": 0.019713,
     "end_time": "2022-11-22T10:48:28.855588",
     "exception": false,
     "start_time": "2022-11-22T10:48:28.835875",
     "status": "completed"
    },
    "tags": []
   },
   "outputs": [],
   "source": [
    "# принимает: \n",
    "# 'dfs' - список с таблицами\n",
    "# 'captions' - подписи к таблицам\n",
    "# 'space_width' - отступы между таблицами\n",
    "\n",
    "# возвращает:\n",
    "# выводит в консоль таблицы рядом с друг другом\n",
    "\n",
    "def display_side_by_side(dfs:list, captions:list, space_width=10):\n",
    "    output = \"\"\n",
    "    combined = dict(zip(captions, dfs))\n",
    "    \n",
    "    for caption, df in combined.items():\n",
    "        output += (df.style.set_properties(**{'text-align': 'left'})\n",
    "                   .set_table_attributes(\"style='display:inline'\")\n",
    "                   .set_caption(caption)._repr_html_())\n",
    "        output += \"\\xa0\" * space_width\n",
    "    \n",
    "    display(HTML(output))"
   ]
  },
  {
   "cell_type": "markdown",
   "id": "38fa1542",
   "metadata": {
    "papermill": {
     "duration": 0.01137,
     "end_time": "2022-11-22T10:48:28.878518",
     "exception": false,
     "start_time": "2022-11-22T10:48:28.867148",
     "status": "completed"
    },
    "tags": []
   },
   "source": [
    "### Функция для создания статус-бара в консоли"
   ]
  },
  {
   "cell_type": "code",
   "execution_count": 3,
   "id": "e36d9638",
   "metadata": {
    "execution": {
     "iopub.execute_input": "2022-11-22T10:48:28.902793Z",
     "iopub.status.busy": "2022-11-22T10:48:28.902246Z",
     "iopub.status.idle": "2022-11-22T10:48:28.908565Z",
     "shell.execute_reply": "2022-11-22T10:48:28.907168Z"
    },
    "papermill": {
     "duration": 0.020722,
     "end_time": "2022-11-22T10:48:28.910606",
     "exception": false,
     "start_time": "2022-11-22T10:48:28.889884",
     "status": "completed"
    },
    "tags": []
   },
   "outputs": [],
   "source": [
    "# принимает: \n",
    "# 'count' - значение статус бара на данный момент\n",
    "# 'total' - количество всех значений 100%\n",
    "# 'status' - строка с описание статуса\n",
    "\n",
    "# возвращает:\n",
    "# выводит в консоль статус бар\n",
    "\n",
    "def progress(count, total, status=''):\n",
    "    bar_len = 60\n",
    "    filled_len = int(round(bar_len * count / float(total)))\n",
    "    \n",
    "    percents = round(100.0 * count / float(total), 1)\n",
    "    bar = '=' * filled_len + '-' * (bar_len - filled_len)\n",
    "    \n",
    "    sys.stdout.write('[%s] %s%s ...%s\\r' % (bar, percents, '%', status))\n",
    "    sys.stdout.flush()"
   ]
  },
  {
   "cell_type": "markdown",
   "id": "f15d66bc",
   "metadata": {
    "papermill": {
     "duration": 0.011218,
     "end_time": "2022-11-22T10:48:28.933349",
     "exception": false,
     "start_time": "2022-11-22T10:48:28.922131",
     "status": "completed"
    },
    "tags": []
   },
   "source": [
    "<a id=\"parcer_funcs\"></a>\n",
    "## Функции для парсера\n",
    "Методы учавствующие в поиске и оработки вакансий с сайта."
   ]
  },
  {
   "cell_type": "markdown",
   "id": "7dd78e1c",
   "metadata": {
    "papermill": {
     "duration": 0.01054,
     "end_time": "2022-11-22T10:48:28.955336",
     "exception": false,
     "start_time": "2022-11-22T10:48:28.944796",
     "status": "completed"
    },
    "tags": []
   },
   "source": [
    "<a id=\"func_find_ids\"></a>\n",
    "### Функция для поиска вакансий по заданным параметрам*\n",
    "Поиск `id` по заданным параметрам. И создания списка со всеми подходящими `id` вакансий."
   ]
  },
  {
   "cell_type": "code",
   "execution_count": 4,
   "id": "71849539",
   "metadata": {
    "execution": {
     "iopub.execute_input": "2022-11-22T10:48:28.980714Z",
     "iopub.status.busy": "2022-11-22T10:48:28.979325Z",
     "iopub.status.idle": "2022-11-22T10:48:28.989118Z",
     "shell.execute_reply": "2022-11-22T10:48:28.987725Z"
    },
    "papermill": {
     "duration": 0.024973,
     "end_time": "2022-11-22T10:48:28.991700",
     "exception": false,
     "start_time": "2022-11-22T10:48:28.966727",
     "status": "completed"
    },
    "tags": []
   },
   "outputs": [],
   "source": [
    "# принимает: \n",
    "# 'job_title' - название (или ключевые слова) для поиска вакансий\n",
    "# 'pages_number' - количество страниц с вакансиями (pages_number * 100 - всего вакансий)\n",
    "# 'area' - регион для поиска вакансий\n",
    "# 'url' - адрес API\n",
    "\n",
    "# возвращает:\n",
    "# список со всеми id вакансий по заданным параметрам\n",
    "\n",
    "def find_ids(job_title='Analyst', pages_number = 20, area=113, url = 'https://api.hh.ru/vacancies/'):\n",
    "    # список в который добавляем все найденые id\n",
    "    ids = []\n",
    "    # счетчик для вывода на экран прогресса обработки\n",
    "    count = 0\n",
    "    # проверка не выходит количество страниц с вакансиями за предельное значение\n",
    "    if pages_number > 20:\n",
    "        pages_number = 20\n",
    "    # посчет общего количества вакансий\n",
    "    ids_sum = pages_number*100\n",
    "\n",
    "    \n",
    "    print(f'Start loading {ids_sum} job vacancies ')\n",
    "    \n",
    "    # проходимся по заданному количеству страниц с вакансиями\n",
    "    for i in range(pages_number):\n",
    "        # задаем параметры за запроса\n",
    "        par = {'text': job_title, 'area': area, 'per_page': 100, 'page':i}\n",
    "        # делаем запрос\n",
    "        r = requests.get(url, params=par)        \n",
    "        e = r.json()\n",
    "        \n",
    "        # поиск всех id на одной странице и добавление их в список ids\n",
    "        for i in range(len(e['items'])):\n",
    "            count += 1\n",
    "            progress(count ,ids_sum, 'loaded')\n",
    "            \n",
    "            try:\n",
    "                ids.append(e['items'][i].get('id'))\n",
    "            except:\n",
    "                print('Going beyond the allowed number of vacancies!')\n",
    "                print(f'Uploaded {len(ids)} vacancies')\n",
    "                return ids\n",
    "\n",
    "    print('\\nEverything OK')\n",
    "    print(f'Uploaded {len(ids)} vacancies')\n",
    "    \n",
    "    # возварт списка с id всех найденых вакансий\n",
    "    return ids"
   ]
  },
  {
   "cell_type": "markdown",
   "id": "48020fa9",
   "metadata": {
    "papermill": {
     "duration": 0.010745,
     "end_time": "2022-11-22T10:48:29.013615",
     "exception": false,
     "start_time": "2022-11-22T10:48:29.002870",
     "status": "completed"
    },
    "tags": []
   },
   "source": [
    "<a id=\"func_fill_row\"></a>\n",
    "### Функция обработки вакансии для добавления в таблицу\n",
    "Обработка и заполнение одной строки таблицы искомыми данными. Проверка данных на `None`."
   ]
  },
  {
   "cell_type": "code",
   "execution_count": 5,
   "id": "b475897a",
   "metadata": {
    "execution": {
     "iopub.execute_input": "2022-11-22T10:48:29.041124Z",
     "iopub.status.busy": "2022-11-22T10:48:29.040504Z",
     "iopub.status.idle": "2022-11-22T10:48:29.060720Z",
     "shell.execute_reply": "2022-11-22T10:48:29.058514Z"
    },
    "papermill": {
     "duration": 0.039641,
     "end_time": "2022-11-22T10:48:29.064324",
     "exception": false,
     "start_time": "2022-11-22T10:48:29.024683",
     "status": "completed"
    },
    "tags": []
   },
   "outputs": [],
   "source": [
    "# принимает:\n",
    "# 'm' - все данные в list(dict) полученные по id вакансии \n",
    "\n",
    "# возвращает:\n",
    "# список с искомыми (чистыми) данными\n",
    "\n",
    "def fill_row(m):\n",
    "    \n",
    "    d = []\n",
    "    # проверка заполнености данных в выбранном поле.\n",
    "    def name_none(data):\n",
    "        # если ЕСТЬ данные заполняем из значения name\n",
    "        if data != None:\n",
    "            d.append(data.get('name'))\n",
    "        # если данные отсутсвуют заполняем None\n",
    "        else:\n",
    "            d.append(None)\n",
    "    \n",
    "    # формирования данных по зарплате\n",
    "    def salary_none(data):\n",
    "        # если ЕСТЬ данные по зарплате, заполняем ОТ, ДО, ВАЛЮТА\n",
    "        if data != None:\n",
    "            d.append(True)\n",
    "            d.append(data.get('from'))\n",
    "            d.append(data.get('to'))\n",
    "            d.append(data.get('currency'))\n",
    "        # если данные отсутсвуют заполняем None\n",
    "        else:\n",
    "            d.append(False)\n",
    "            d.append(None)\n",
    "            d.append(None)\n",
    "            d.append(None)\n",
    "    \n",
    "    # очистка данных \"описание вакансии\" от ненужных тегов\n",
    "    def celar_description(data):\n",
    "        # возращаем чистую строку\n",
    "        return re.sub(r\"<[^>]+>\", \"\", data, flags=re.S)\n",
    "    \n",
    "    # формирование массива с \"ключевыми навыками\"\n",
    "    def key_skills_fill(data):\n",
    "        res = []\n",
    "        # если ЕСТЬ данные формируем и возращаем масиив со всеми ключевыми навыками\n",
    "        if data != None and len(data) != 0:\n",
    "            return [el[\"name\"] for el in data]\n",
    "        # если данные отсутсвуют возращаем None\n",
    "        else:\n",
    "            return None\n",
    "    \n",
    "    # обработка строки с \"датой публикации вакансии\"\n",
    "    def fill_date(data):\n",
    "        return pd.to_datetime(data, format='%Y-%m-%dT%H:%M:%S') #2022-11-18T14:02:37+0300\n",
    "    \n",
    "    # поиск и заполнение данных одной строки в масиив\n",
    "    d.append(int(m.get('id')))\n",
    "    d.append(m.get('premium'))\n",
    "    d.append(m.get('name'))\n",
    "    name_none(m.get('area'))\n",
    "    \n",
    "    salary_none(m.get('salary'))\n",
    "       \n",
    "    name_none(m.get('experience'))\n",
    "    name_none(m.get('schedule'))\n",
    "    name_none(m.get('employment'))\n",
    "    \n",
    "    d.append(celar_description(m.get('description')))\n",
    "    d.append(key_skills_fill(m.get('key_skills')))\n",
    "    \n",
    "    name_none(m.get('employer'))\n",
    "    \n",
    "    d.append(fill_date(m.get('published_at')))\n",
    "    \n",
    "    d.append(m.get('alternate_url'))\n",
    "    d.append(m.get('has_test'))\n",
    "    \n",
    "    # возращаем массив с данными по одной строке\n",
    "    return d\n"
   ]
  },
  {
   "cell_type": "markdown",
   "id": "671d5c1c",
   "metadata": {
    "papermill": {
     "duration": 0.012189,
     "end_time": "2022-11-22T10:48:29.089811",
     "exception": false,
     "start_time": "2022-11-22T10:48:29.077622",
     "status": "completed"
    },
    "tags": []
   },
   "source": [
    "<a id=\"func_ceate_df\"></a>\n",
    "### Функция создания и заполения таблицы вакансий\n",
    "Создание и заполнение итоговой таблицы со всеми искомыми данными из искомых вакансий."
   ]
  },
  {
   "cell_type": "code",
   "execution_count": 6,
   "id": "e84b08f4",
   "metadata": {
    "execution": {
     "iopub.execute_input": "2022-11-22T10:48:29.115776Z",
     "iopub.status.busy": "2022-11-22T10:48:29.115463Z",
     "iopub.status.idle": "2022-11-22T10:48:29.123192Z",
     "shell.execute_reply": "2022-11-22T10:48:29.122141Z"
    },
    "papermill": {
     "duration": 0.023099,
     "end_time": "2022-11-22T10:48:29.125510",
     "exception": false,
     "start_time": "2022-11-22T10:48:29.102411",
     "status": "completed"
    },
    "tags": []
   },
   "outputs": [],
   "source": [
    "# принимает:\n",
    "# 'ids' - список со всеми id искомых вакансий\n",
    "# 'url' - адрес API\n",
    "\n",
    "# возвращает:\n",
    "# итоговая таблица со всем искомыми вакансиями\n",
    "\n",
    "def ceate_df(ids, url):\n",
    "    # список с названиями колонок таблицы\n",
    "    columns = [ 'id',\n",
    "                'premium',\n",
    "                'vacancy_name',\n",
    "                'city',\n",
    "                'salary',\n",
    "                'salary_from',\n",
    "                'salary_to',\n",
    "                'currency',\n",
    "                'experience',\n",
    "                'schedule',\n",
    "                'employment',\n",
    "                'description',\n",
    "                'skills',\n",
    "                'employer',\n",
    "                'publish_date',\n",
    "                'vacancy_url',\n",
    "                'has_test']\n",
    "    \n",
    "    # создание итоговой таблицы\n",
    "    df = pd.DataFrame(columns = columns)\n",
    "    count = 0\n",
    "    \n",
    "    # заполнение итоговой таблицы искомыми данными, с помощью списка со всем id вакансий\n",
    "    print(f'\\nStart adding {len(ids)} job vacancies ')\n",
    "    for i in range(len(ids)):\n",
    "        # запрос данных по вакансии по найденому id\n",
    "        data = requests.get(url+ids[i]).json()\n",
    "        # заполение данными 1 строки в итоговой таблице\n",
    "        df.loc[i] = fill_row(data)\n",
    "        \n",
    "        count += 1\n",
    "        progress(count ,len(ids), 'added')\n",
    "    \n",
    "    # возращаем итоговую таблицу\n",
    "    print(f'\\nAdded {len(df)} vacancies')\n",
    "    return df"
   ]
  },
  {
   "cell_type": "markdown",
   "id": "539e1818",
   "metadata": {
    "papermill": {
     "duration": 0.011533,
     "end_time": "2022-11-22T10:48:29.148406",
     "exception": false,
     "start_time": "2022-11-22T10:48:29.136873",
     "status": "completed"
    },
    "tags": []
   },
   "source": [
    "<a id=\"func_table_processing\"></a>\n",
    "### Форматная предобработка данных в таблице\n",
    "Первичная предобработка данных в итоговой таблице"
   ]
  },
  {
   "cell_type": "code",
   "execution_count": 7,
   "id": "800c9957",
   "metadata": {
    "execution": {
     "iopub.execute_input": "2022-11-22T10:48:29.173328Z",
     "iopub.status.busy": "2022-11-22T10:48:29.172982Z",
     "iopub.status.idle": "2022-11-22T10:48:29.179847Z",
     "shell.execute_reply": "2022-11-22T10:48:29.179061Z"
    },
    "papermill": {
     "duration": 0.022113,
     "end_time": "2022-11-22T10:48:29.182170",
     "exception": false,
     "start_time": "2022-11-22T10:48:29.160057",
     "status": "completed"
    },
    "tags": []
   },
   "outputs": [],
   "source": [
    "# принимает:\n",
    "# 'df' - таблица в которой обрабатываются данные\n",
    "\n",
    "# возвращает:\n",
    "# итоговая таблица с обработанными данными\n",
    "\n",
    "def table_processing(df): \n",
    "    # смена типа данных в столбцах 'id', 'salary_from', 'salary_to' на int\n",
    "    for col in ['id', 'salary_from', 'salary_to']:\n",
    "        df[col] = pd.to_numeric(df[col], errors='coerce')\n",
    "        df[col] = df[col].astype(int, errors='ignore')\n",
    "    \n",
    "    # смена типа данных в столбцах 'premium', 'salary', 'has_test' на bool \n",
    "    for col in ['premium', 'salary', 'has_test']:\n",
    "        df[col] = df[col].astype(bool, errors='ignore')\n",
    "        \n",
    "    # замена значения валюты с 'RUR' на 'RUB'\n",
    "    df['currency'] = df['currency'].replace({'RUR':'RUB'}, regex=True)\n",
    "    \n",
    "    # приводим столбец 'publish_date' к типу данных date_time\n",
    "    df['publish_date'] = pd.to_datetime(df['publish_date'], format='%Y-%m-%dT%H:%M:%S')\n",
    "    \n",
    "    # возвращаем итоговую таблицу с обработанными данными\n",
    "    return df"
   ]
  },
  {
   "cell_type": "markdown",
   "id": "ed07b085",
   "metadata": {
    "papermill": {
     "duration": 0.015249,
     "end_time": "2022-11-22T10:48:29.209332",
     "exception": false,
     "start_time": "2022-11-22T10:48:29.194083",
     "status": "completed"
    },
    "tags": []
   },
   "source": [
    "<a id=\"main\"></a>\n",
    "## Парсим данные или читаем данные из файла\n",
    "Main функция вызывающая методы:\n",
    "- нахождение нужных данных по вакансиям по запросу \n",
    "- создание таблицы с найденными данными\n",
    "- обработка итоговой таблицы\n",
    "- запись данных в файл\n",
    "\n",
    "Для просмотра кодов всех районов для поиска:  \n",
    "`print(requests.get('https://api.hh.ru/areas').json())`  \n",
    "Коды основных районов:  \n",
    "`Россия = 113\n",
    "Москва = 1\n",
    "Санкт-Петербург = 2\n",
    "Воронежская область = 1844\n",
    "Воронеж = 26\n",
    "Грузия = 28\n",
    "Тбилиси = 2758\n",
    "Батуми = 2814`\n",
    "\n",
    "Для сложного запроса по названию вакансии, можно использовать \n",
    "- AND - позволяет искать сложные вакансии exp. Manager AND Doctor\n",
    "- OR - позоляет расширить пул поиска вакансий exp. Аналитик OR Analyst OR Analytics\n",
    "\n",
    "**Во время работы в консоль будет выводиться информации о статусе поиска и обработки.**"
   ]
  },
  {
   "cell_type": "code",
   "execution_count": 8,
   "id": "85934ac6",
   "metadata": {
    "execution": {
     "iopub.execute_input": "2022-11-22T10:48:29.237962Z",
     "iopub.status.busy": "2022-11-22T10:48:29.236497Z",
     "iopub.status.idle": "2022-11-22T10:48:29.488019Z",
     "shell.execute_reply": "2022-11-22T10:48:29.486637Z"
    },
    "papermill": {
     "duration": 0.268392,
     "end_time": "2022-11-22T10:48:29.490945",
     "exception": false,
     "start_time": "2022-11-22T10:48:29.222553",
     "status": "completed"
    },
    "tags": []
   },
   "outputs": [
    {
     "name": "stdout",
     "output_type": "stream",
     "text": [
      "DataFrame has been uploaded!\n"
     ]
    }
   ],
   "source": [
    "# адрес API\n",
    "url = 'https://api.hh.ru/vacancies/'\n",
    "# ключевое слово (или название) для поиска в названия вакансий\n",
    "job_title = ['Аналитик']\n",
    "# умножается на 10 (максимум 20)\n",
    "pages_number = 20\n",
    "# район поиска \n",
    "area = 113\n",
    "# название фала для записи данных\n",
    "reading_file_name = '../input/hh-data-analytic/hh_result.csv'\n",
    "# название фала для записи данных\n",
    "saving_file_name = 'hh_result.csv'\n",
    "\n",
    "# парсим данные или считываем их из вайла\n",
    "if reading_file_name == '':\n",
    "    # поиск id вакансий по заданному запросу\n",
    "    ids = find_ids(job_title, pages_number, area, url)\n",
    "    # созадние таблицы с данными\n",
    "    df = ceate_df(ids, url)\n",
    "    # обработка данных в таблице\n",
    "    df = table_processing(df)\n",
    "    # запись данных в файл\n",
    "    df.to_csv(saving_file_name,index = False)\n",
    "# считываем из файла\n",
    "else:\n",
    "    try:\n",
    "        df = pd.read_csv(reading_file_name)\n",
    "        df = table_processing(df)\n",
    "        print('DataFrame has been uploaded!')\n",
    "    except:\n",
    "        print('CSV file no found :(')"
   ]
  },
  {
   "cell_type": "markdown",
   "id": "87568854",
   "metadata": {
    "papermill": {
     "duration": 0.010948,
     "end_time": "2022-11-22T10:48:29.515581",
     "exception": false,
     "start_time": "2022-11-22T10:48:29.504633",
     "status": "completed"
    },
    "tags": []
   },
   "source": [
    "<a id=\"main_conclusion\"></a>\n",
    "### Вывод\n",
    "Сначала были написаны функции для удобного отображения таблиц и прогресса загрузки и обработки данных. Так же написан собственный парсер использующий API hh.ru, собирающий и обрабатывающий по заданным пользователем критериям данные о вакансиях (до 2000 за раз). Реализовано сохранение вакансий в файл, либо считывание данных из файла, если парсинг вакансий был произведен ранее."
   ]
  },
  {
   "cell_type": "markdown",
   "id": "95e606bc",
   "metadata": {
    "papermill": {
     "duration": 0.011112,
     "end_time": "2022-11-22T10:48:29.537765",
     "exception": false,
     "start_time": "2022-11-22T10:48:29.526653",
     "status": "completed"
    },
    "tags": []
   },
   "source": [
    "<a id=\"data_processing\"></a>\n",
    "## Анализ данных\n",
    "Собранны данные по запросу \n",
    "- профессия - `Аналитик`\n",
    "- район поиска - `Россия`\n",
    "- количество вакансий - `2000`"
   ]
  },
  {
   "cell_type": "code",
   "execution_count": 9,
   "id": "fb9a336f",
   "metadata": {
    "execution": {
     "iopub.execute_input": "2022-11-22T10:48:29.561798Z",
     "iopub.status.busy": "2022-11-22T10:48:29.561489Z",
     "iopub.status.idle": "2022-11-22T10:48:29.594456Z",
     "shell.execute_reply": "2022-11-22T10:48:29.593605Z"
    },
    "papermill": {
     "duration": 0.047179,
     "end_time": "2022-11-22T10:48:29.596221",
     "exception": false,
     "start_time": "2022-11-22T10:48:29.549042",
     "status": "completed"
    },
    "tags": []
   },
   "outputs": [
    {
     "data": {
      "text/html": [
       "<div>\n",
       "<style scoped>\n",
       "    .dataframe tbody tr th:only-of-type {\n",
       "        vertical-align: middle;\n",
       "    }\n",
       "\n",
       "    .dataframe tbody tr th {\n",
       "        vertical-align: top;\n",
       "    }\n",
       "\n",
       "    .dataframe thead th {\n",
       "        text-align: right;\n",
       "    }\n",
       "</style>\n",
       "<table border=\"1\" class=\"dataframe\">\n",
       "  <thead>\n",
       "    <tr style=\"text-align: right;\">\n",
       "      <th></th>\n",
       "      <th>id</th>\n",
       "      <th>premium</th>\n",
       "      <th>vacancy_name</th>\n",
       "      <th>city</th>\n",
       "      <th>salary</th>\n",
       "      <th>salary_from</th>\n",
       "      <th>salary_to</th>\n",
       "      <th>currency</th>\n",
       "      <th>experience</th>\n",
       "      <th>schedule</th>\n",
       "      <th>employment</th>\n",
       "      <th>description</th>\n",
       "      <th>skills</th>\n",
       "      <th>employer</th>\n",
       "      <th>publish_date</th>\n",
       "      <th>vacancy_url</th>\n",
       "      <th>has_test</th>\n",
       "    </tr>\n",
       "  </thead>\n",
       "  <tbody>\n",
       "    <tr>\n",
       "      <th>441</th>\n",
       "      <td>71343080</td>\n",
       "      <td>True</td>\n",
       "      <td>Системный аналитик</td>\n",
       "      <td>Москва</td>\n",
       "      <td>False</td>\n",
       "      <td>NaN</td>\n",
       "      <td>NaN</td>\n",
       "      <td>NaN</td>\n",
       "      <td>От 1 года до 3 лет</td>\n",
       "      <td>Полный день</td>\n",
       "      <td>Полная занятость</td>\n",
       "      <td>СБЕР — больше чем банк, это вселенная полезных...</td>\n",
       "      <td>NaN</td>\n",
       "      <td>СБЕР</td>\n",
       "      <td>2022-11-17 12:45:37+03:00</td>\n",
       "      <td>https://hh.ru/vacancy/71343080</td>\n",
       "      <td>False</td>\n",
       "    </tr>\n",
       "    <tr>\n",
       "      <th>946</th>\n",
       "      <td>72299972</td>\n",
       "      <td>False</td>\n",
       "      <td>Аналитик бизнес-процессов</td>\n",
       "      <td>Иваново (Ивановская область)</td>\n",
       "      <td>False</td>\n",
       "      <td>NaN</td>\n",
       "      <td>NaN</td>\n",
       "      <td>NaN</td>\n",
       "      <td>От 1 года до 3 лет</td>\n",
       "      <td>Гибкий график</td>\n",
       "      <td>Полная занятость</td>\n",
       "      <td>Обязанности:  Хорошее знание системного подход...</td>\n",
       "      <td>NaN</td>\n",
       "      <td>Кенгуру</td>\n",
       "      <td>2022-11-14 12:50:07+03:00</td>\n",
       "      <td>https://hh.ru/vacancy/72299972</td>\n",
       "      <td>False</td>\n",
       "    </tr>\n",
       "    <tr>\n",
       "      <th>151</th>\n",
       "      <td>72426044</td>\n",
       "      <td>False</td>\n",
       "      <td>Финансовый аналитик</td>\n",
       "      <td>Санкт-Петербург</td>\n",
       "      <td>True</td>\n",
       "      <td>80000.0</td>\n",
       "      <td>80000.0</td>\n",
       "      <td>RUB</td>\n",
       "      <td>От 1 года до 3 лет</td>\n",
       "      <td>Полный день</td>\n",
       "      <td>Полная занятость</td>\n",
       "      <td>Обязанности:  Контролировать финансовые потоки...</td>\n",
       "      <td>['Анализ финансовых показателей', 'Бюджетирова...</td>\n",
       "      <td>Петромастер</td>\n",
       "      <td>2022-11-19 16:56:34+03:00</td>\n",
       "      <td>https://hh.ru/vacancy/72426044</td>\n",
       "      <td>False</td>\n",
       "    </tr>\n",
       "    <tr>\n",
       "      <th>1804</th>\n",
       "      <td>72227541</td>\n",
       "      <td>False</td>\n",
       "      <td>Продуктовый аналитик</td>\n",
       "      <td>Москва</td>\n",
       "      <td>False</td>\n",
       "      <td>NaN</td>\n",
       "      <td>NaN</td>\n",
       "      <td>NaN</td>\n",
       "      <td>От 1 года до 3 лет</td>\n",
       "      <td>Полный день</td>\n",
       "      <td>Полная занятость</td>\n",
       "      <td>Обязанности:   Анализ доходности/PnL клиентов ...</td>\n",
       "      <td>['SQL', 'Экономический анализ', 'MS PowerPoint...</td>\n",
       "      <td>Банк Открытие</td>\n",
       "      <td>2022-11-11 15:06:42+03:00</td>\n",
       "      <td>https://hh.ru/vacancy/72227541</td>\n",
       "      <td>False</td>\n",
       "    </tr>\n",
       "    <tr>\n",
       "      <th>932</th>\n",
       "      <td>71429598</td>\n",
       "      <td>False</td>\n",
       "      <td>Веб-аналитик и проектный менеджер сайтов</td>\n",
       "      <td>Москва</td>\n",
       "      <td>True</td>\n",
       "      <td>95000.0</td>\n",
       "      <td>105000.0</td>\n",
       "      <td>RUB</td>\n",
       "      <td>От 1 года до 3 лет</td>\n",
       "      <td>Полный день</td>\n",
       "      <td>Полная занятость</td>\n",
       "      <td>Ведущий организатор масштабных специализирован...</td>\n",
       "      <td>['CMS', '1С-Битрикс', 'WEB аналитика', 'Яндекс...</td>\n",
       "      <td>НАО Тринити Ивентс</td>\n",
       "      <td>2022-11-17 14:48:58+03:00</td>\n",
       "      <td>https://hh.ru/vacancy/71429598</td>\n",
       "      <td>False</td>\n",
       "    </tr>\n",
       "  </tbody>\n",
       "</table>\n",
       "</div>"
      ],
      "text/plain": [
       "            id  premium                              vacancy_name  \\\n",
       "441   71343080     True                        Системный аналитик   \n",
       "946   72299972    False                 Аналитик бизнес-процессов   \n",
       "151   72426044    False                       Финансовый аналитик   \n",
       "1804  72227541    False                      Продуктовый аналитик   \n",
       "932   71429598    False  Веб-аналитик и проектный менеджер сайтов   \n",
       "\n",
       "                              city  salary  salary_from  salary_to currency  \\\n",
       "441                         Москва   False          NaN        NaN      NaN   \n",
       "946   Иваново (Ивановская область)   False          NaN        NaN      NaN   \n",
       "151                Санкт-Петербург    True      80000.0    80000.0      RUB   \n",
       "1804                        Москва   False          NaN        NaN      NaN   \n",
       "932                         Москва    True      95000.0   105000.0      RUB   \n",
       "\n",
       "              experience       schedule        employment  \\\n",
       "441   От 1 года до 3 лет    Полный день  Полная занятость   \n",
       "946   От 1 года до 3 лет  Гибкий график  Полная занятость   \n",
       "151   От 1 года до 3 лет    Полный день  Полная занятость   \n",
       "1804  От 1 года до 3 лет    Полный день  Полная занятость   \n",
       "932   От 1 года до 3 лет    Полный день  Полная занятость   \n",
       "\n",
       "                                            description  \\\n",
       "441   СБЕР — больше чем банк, это вселенная полезных...   \n",
       "946   Обязанности:  Хорошее знание системного подход...   \n",
       "151   Обязанности:  Контролировать финансовые потоки...   \n",
       "1804  Обязанности:   Анализ доходности/PnL клиентов ...   \n",
       "932   Ведущий организатор масштабных специализирован...   \n",
       "\n",
       "                                                 skills            employer  \\\n",
       "441                                                 NaN                СБЕР   \n",
       "946                                                 NaN             Кенгуру   \n",
       "151   ['Анализ финансовых показателей', 'Бюджетирова...         Петромастер   \n",
       "1804  ['SQL', 'Экономический анализ', 'MS PowerPoint...       Банк Открытие   \n",
       "932   ['CMS', '1С-Битрикс', 'WEB аналитика', 'Яндекс...  НАО Тринити Ивентс   \n",
       "\n",
       "                  publish_date                     vacancy_url  has_test  \n",
       "441  2022-11-17 12:45:37+03:00  https://hh.ru/vacancy/71343080     False  \n",
       "946  2022-11-14 12:50:07+03:00  https://hh.ru/vacancy/72299972     False  \n",
       "151  2022-11-19 16:56:34+03:00  https://hh.ru/vacancy/72426044     False  \n",
       "1804 2022-11-11 15:06:42+03:00  https://hh.ru/vacancy/72227541     False  \n",
       "932  2022-11-17 14:48:58+03:00  https://hh.ru/vacancy/71429598     False  "
      ]
     },
     "execution_count": 9,
     "metadata": {},
     "output_type": "execute_result"
    }
   ],
   "source": [
    "df.sample(5)"
   ]
  },
  {
   "cell_type": "code",
   "execution_count": 10,
   "id": "5889ebbd",
   "metadata": {
    "execution": {
     "iopub.execute_input": "2022-11-22T10:48:29.621512Z",
     "iopub.status.busy": "2022-11-22T10:48:29.621137Z",
     "iopub.status.idle": "2022-11-22T10:48:29.644761Z",
     "shell.execute_reply": "2022-11-22T10:48:29.642730Z"
    },
    "papermill": {
     "duration": 0.03988,
     "end_time": "2022-11-22T10:48:29.647699",
     "exception": false,
     "start_time": "2022-11-22T10:48:29.607819",
     "status": "completed"
    },
    "tags": []
   },
   "outputs": [
    {
     "name": "stdout",
     "output_type": "stream",
     "text": [
      "<class 'pandas.core.frame.DataFrame'>\n",
      "RangeIndex: 2000 entries, 0 to 1999\n",
      "Data columns (total 17 columns):\n",
      " #   Column        Non-Null Count  Dtype                                \n",
      "---  ------        --------------  -----                                \n",
      " 0   id            2000 non-null   int64                                \n",
      " 1   premium       2000 non-null   bool                                 \n",
      " 2   vacancy_name  2000 non-null   object                               \n",
      " 3   city          2000 non-null   object                               \n",
      " 4   salary        2000 non-null   bool                                 \n",
      " 5   salary_from   852 non-null    float64                              \n",
      " 6   salary_to     616 non-null    float64                              \n",
      " 7   currency      978 non-null    object                               \n",
      " 8   experience    2000 non-null   object                               \n",
      " 9   schedule      2000 non-null   object                               \n",
      " 10  employment    2000 non-null   object                               \n",
      " 11  description   2000 non-null   object                               \n",
      " 12  skills        1765 non-null   object                               \n",
      " 13  employer      2000 non-null   object                               \n",
      " 14  publish_date  2000 non-null   datetime64[ns, pytz.FixedOffset(180)]\n",
      " 15  vacancy_url   2000 non-null   object                               \n",
      " 16  has_test      2000 non-null   bool                                 \n",
      "dtypes: bool(3), datetime64[ns, pytz.FixedOffset(180)](1), float64(2), int64(1), object(10)\n",
      "memory usage: 224.7+ KB\n"
     ]
    }
   ],
   "source": [
    "df.info()"
   ]
  },
  {
   "cell_type": "markdown",
   "id": "15493d20",
   "metadata": {
    "papermill": {
     "duration": 0.011019,
     "end_time": "2022-11-22T10:48:29.670708",
     "exception": false,
     "start_time": "2022-11-22T10:48:29.659689",
     "status": "completed"
    },
    "tags": []
   },
   "source": [
    "В таблице есть пропуски в данных о зарплате и ключевых умениях. Остальные данные заполнены полностью. Связано это с тем что на сервисе hh.ru столбцы в которых есть пропуски не являются обязательными к заполнению."
   ]
  },
  {
   "cell_type": "markdown",
   "id": "5532ec89",
   "metadata": {
    "papermill": {
     "duration": 0.012546,
     "end_time": "2022-11-22T10:48:29.695241",
     "exception": false,
     "start_time": "2022-11-22T10:48:29.682695",
     "status": "completed"
    },
    "tags": []
   },
   "source": [
    "<a id=\"data_drop_dublicates\"></a>\n",
    "### Удаление явных дубликатов"
   ]
  },
  {
   "cell_type": "code",
   "execution_count": 11,
   "id": "e218c0ed",
   "metadata": {
    "execution": {
     "iopub.execute_input": "2022-11-22T10:48:29.720181Z",
     "iopub.status.busy": "2022-11-22T10:48:29.719884Z",
     "iopub.status.idle": "2022-11-22T10:48:29.797176Z",
     "shell.execute_reply": "2022-11-22T10:48:29.795511Z"
    },
    "papermill": {
     "duration": 0.092578,
     "end_time": "2022-11-22T10:48:29.799576",
     "exception": false,
     "start_time": "2022-11-22T10:48:29.706998",
     "status": "completed"
    },
    "tags": []
   },
   "outputs": [
    {
     "data": {
      "text/plain": [
       "3"
      ]
     },
     "metadata": {},
     "output_type": "display_data"
    },
    {
     "data": {
      "text/plain": [
       "0"
      ]
     },
     "execution_count": 11,
     "metadata": {},
     "output_type": "execute_result"
    }
   ],
   "source": [
    "display(df.duplicated().sum())\n",
    "df = df.drop_duplicates().reset_index(drop=True)\n",
    "df.duplicated().sum()"
   ]
  },
  {
   "cell_type": "markdown",
   "id": "eaee096f",
   "metadata": {
    "papermill": {
     "duration": 0.011724,
     "end_time": "2022-11-22T10:48:29.823289",
     "exception": false,
     "start_time": "2022-11-22T10:48:29.811565",
     "status": "completed"
    },
    "tags": []
   },
   "source": [
    "<a id=\"data_processing_usd\"></a>\n",
    "### Обработка валютных вакансий\n",
    "Вакансий в которых зарплата не в рублях, очень мало. Удаляем эти строки."
   ]
  },
  {
   "cell_type": "code",
   "execution_count": 12,
   "id": "505007eb",
   "metadata": {
    "execution": {
     "iopub.execute_input": "2022-11-22T10:48:29.853032Z",
     "iopub.status.busy": "2022-11-22T10:48:29.852685Z",
     "iopub.status.idle": "2022-11-22T10:48:29.876827Z",
     "shell.execute_reply": "2022-11-22T10:48:29.874675Z"
    },
    "papermill": {
     "duration": 0.043002,
     "end_time": "2022-11-22T10:48:29.879257",
     "exception": false,
     "start_time": "2022-11-22T10:48:29.836255",
     "status": "completed"
    },
    "tags": []
   },
   "outputs": [
    {
     "data": {
      "text/plain": [
       "array(['RUB', nan, 'USD'], dtype=object)"
      ]
     },
     "metadata": {},
     "output_type": "display_data"
    },
    {
     "data": {
      "text/plain": [
       "4"
      ]
     },
     "metadata": {},
     "output_type": "display_data"
    },
    {
     "data": {
      "text/plain": [
       "array(['RUB', nan], dtype=object)"
      ]
     },
     "metadata": {},
     "output_type": "display_data"
    }
   ],
   "source": [
    "display(df['currency'].unique())\n",
    "display(df.query('currency==\"USD\"')['currency'].count())\n",
    "df = df.drop(df.query('currency==\"USD\"').index).reset_index(drop=True)\n",
    "display(df['currency'].unique())"
   ]
  },
  {
   "cell_type": "code",
   "execution_count": 13,
   "id": "e60d611a",
   "metadata": {
    "execution": {
     "iopub.execute_input": "2022-11-22T10:48:29.906075Z",
     "iopub.status.busy": "2022-11-22T10:48:29.905277Z",
     "iopub.status.idle": "2022-11-22T10:48:29.917554Z",
     "shell.execute_reply": "2022-11-22T10:48:29.916820Z"
    },
    "papermill": {
     "duration": 0.027856,
     "end_time": "2022-11-22T10:48:29.919526",
     "exception": false,
     "start_time": "2022-11-22T10:48:29.891670",
     "status": "completed"
    },
    "tags": []
   },
   "outputs": [
    {
     "name": "stdout",
     "output_type": "stream",
     "text": [
      "<class 'pandas.core.frame.DataFrame'>\n",
      "RangeIndex: 1993 entries, 0 to 1992\n",
      "Data columns (total 17 columns):\n",
      " #   Column        Non-Null Count  Dtype                                \n",
      "---  ------        --------------  -----                                \n",
      " 0   id            1993 non-null   int64                                \n",
      " 1   premium       1993 non-null   bool                                 \n",
      " 2   vacancy_name  1993 non-null   object                               \n",
      " 3   city          1993 non-null   object                               \n",
      " 4   salary        1993 non-null   bool                                 \n",
      " 5   salary_from   847 non-null    float64                              \n",
      " 6   salary_to     613 non-null    float64                              \n",
      " 7   currency      973 non-null    object                               \n",
      " 8   experience    1993 non-null   object                               \n",
      " 9   schedule      1993 non-null   object                               \n",
      " 10  employment    1993 non-null   object                               \n",
      " 11  description   1993 non-null   object                               \n",
      " 12  skills        1758 non-null   object                               \n",
      " 13  employer      1993 non-null   object                               \n",
      " 14  publish_date  1993 non-null   datetime64[ns, pytz.FixedOffset(180)]\n",
      " 15  vacancy_url   1993 non-null   object                               \n",
      " 16  has_test      1993 non-null   bool                                 \n",
      "dtypes: bool(3), datetime64[ns, pytz.FixedOffset(180)](1), float64(2), int64(1), object(10)\n",
      "memory usage: 223.9+ KB\n"
     ]
    }
   ],
   "source": [
    "df.info()"
   ]
  },
  {
   "cell_type": "markdown",
   "id": "cfa37aff",
   "metadata": {
    "papermill": {
     "duration": 0.011601,
     "end_time": "2022-11-22T10:48:29.942922",
     "exception": false,
     "start_time": "2022-11-22T10:48:29.931321",
     "status": "completed"
    },
    "tags": []
   },
   "source": [
    "<a id=\"data_add_new_column\"></a>\n",
    "### Добавляем столбец со средней зарплатой\n",
    "Создаем новую колонку с средней зарплатой по 1 вакансии по формуле `(salary_from + salary_to) / 2`"
   ]
  },
  {
   "cell_type": "code",
   "execution_count": 14,
   "id": "77baa51c",
   "metadata": {
    "execution": {
     "iopub.execute_input": "2022-11-22T10:48:29.968753Z",
     "iopub.status.busy": "2022-11-22T10:48:29.968337Z",
     "iopub.status.idle": "2022-11-22T10:48:29.976391Z",
     "shell.execute_reply": "2022-11-22T10:48:29.974529Z"
    },
    "papermill": {
     "duration": 0.023745,
     "end_time": "2022-11-22T10:48:29.978628",
     "exception": false,
     "start_time": "2022-11-22T10:48:29.954883",
     "status": "completed"
    },
    "tags": []
   },
   "outputs": [],
   "source": [
    "def salary_mean(row):\n",
    "    fr = np.isnan(row['salary_from'])\n",
    "    to = np.isnan(row['salary_to'])\n",
    "    \n",
    "    if fr and to:\n",
    "        return None\n",
    "    elif fr == False and to == False:\n",
    "        return (row['salary_from']+row['salary_to'])/2\n",
    "    elif fr  and to == False:\n",
    "        return row['salary_to']\n",
    "    elif fr == False and to:\n",
    "        return row['salary_from']"
   ]
  },
  {
   "cell_type": "markdown",
   "id": "51cf7e1b",
   "metadata": {
    "papermill": {
     "duration": 0.01161,
     "end_time": "2022-11-22T10:48:30.002345",
     "exception": false,
     "start_time": "2022-11-22T10:48:29.990735",
     "status": "completed"
    },
    "tags": []
   },
   "source": [
    "Вызываем функцию расчета и добавления столбца со средней запрлатой"
   ]
  },
  {
   "cell_type": "code",
   "execution_count": 15,
   "id": "1cadaebd",
   "metadata": {
    "execution": {
     "iopub.execute_input": "2022-11-22T10:48:30.028788Z",
     "iopub.status.busy": "2022-11-22T10:48:30.027656Z",
     "iopub.status.idle": "2022-11-22T10:48:30.090298Z",
     "shell.execute_reply": "2022-11-22T10:48:30.088686Z"
    },
    "papermill": {
     "duration": 0.07819,
     "end_time": "2022-11-22T10:48:30.092334",
     "exception": false,
     "start_time": "2022-11-22T10:48:30.014144",
     "status": "completed"
    },
    "tags": []
   },
   "outputs": [
    {
     "name": "stdout",
     "output_type": "stream",
     "text": [
      "<class 'pandas.core.frame.DataFrame'>\n",
      "RangeIndex: 1993 entries, 0 to 1992\n",
      "Data columns (total 18 columns):\n",
      " #   Column        Non-Null Count  Dtype                                \n",
      "---  ------        --------------  -----                                \n",
      " 0   id            1993 non-null   int64                                \n",
      " 1   premium       1993 non-null   bool                                 \n",
      " 2   vacancy_name  1993 non-null   object                               \n",
      " 3   city          1993 non-null   object                               \n",
      " 4   salary        1993 non-null   bool                                 \n",
      " 5   salary_from   847 non-null    float64                              \n",
      " 6   salary_to     613 non-null    float64                              \n",
      " 7   currency      973 non-null    object                               \n",
      " 8   experience    1993 non-null   object                               \n",
      " 9   schedule      1993 non-null   object                               \n",
      " 10  employment    1993 non-null   object                               \n",
      " 11  description   1993 non-null   object                               \n",
      " 12  skills        1758 non-null   object                               \n",
      " 13  employer      1993 non-null   object                               \n",
      " 14  publish_date  1993 non-null   datetime64[ns, pytz.FixedOffset(180)]\n",
      " 15  vacancy_url   1993 non-null   object                               \n",
      " 16  has_test      1993 non-null   bool                                 \n",
      " 17  salary_mean   973 non-null    float64                              \n",
      "dtypes: bool(3), datetime64[ns, pytz.FixedOffset(180)](1), float64(3), int64(1), object(10)\n",
      "memory usage: 239.5+ KB\n"
     ]
    }
   ],
   "source": [
    "df['salary_mean'] = df.apply(salary_mean, axis=1) \n",
    "df.info()"
   ]
  },
  {
   "cell_type": "markdown",
   "id": "0cb1f531",
   "metadata": {
    "papermill": {
     "duration": 0.011742,
     "end_time": "2022-11-22T10:48:30.115974",
     "exception": false,
     "start_time": "2022-11-22T10:48:30.104232",
     "status": "completed"
    },
    "tags": []
   },
   "source": [
    "<a id=\"data_analysis_salary\"></a>\n",
    "## Анализ зарплат \"от/до\""
   ]
  },
  {
   "cell_type": "markdown",
   "id": "43062c72",
   "metadata": {
    "papermill": {
     "duration": 0.011755,
     "end_time": "2022-11-22T10:48:30.139721",
     "exception": false,
     "start_time": "2022-11-22T10:48:30.127966",
     "status": "completed"
    },
    "tags": []
   },
   "source": [
    "Для вывода графиков сделаем срез, убрав экстримальные значения в зарплатах."
   ]
  },
  {
   "cell_type": "code",
   "execution_count": 16,
   "id": "afb30d75",
   "metadata": {
    "execution": {
     "iopub.execute_input": "2022-11-22T10:48:30.165736Z",
     "iopub.status.busy": "2022-11-22T10:48:30.165425Z",
     "iopub.status.idle": "2022-11-22T10:48:30.174151Z",
     "shell.execute_reply": "2022-11-22T10:48:30.173227Z"
    },
    "papermill": {
     "duration": 0.024177,
     "end_time": "2022-11-22T10:48:30.176038",
     "exception": false,
     "start_time": "2022-11-22T10:48:30.151861",
     "status": "completed"
    },
    "tags": []
   },
   "outputs": [],
   "source": [
    "dg = df.query('salary_from<200_000 & salary_to<350_000 & currency==\"RUB\"')"
   ]
  },
  {
   "cell_type": "markdown",
   "id": "85be9e16",
   "metadata": {
    "papermill": {
     "duration": 0.012818,
     "end_time": "2022-11-22T10:48:30.201158",
     "exception": false,
     "start_time": "2022-11-22T10:48:30.188340",
     "status": "completed"
    },
    "tags": []
   },
   "source": [
    "<a id=\"data_salary_from_to\"></a>\n",
    "### Распределие зарплат \"от/до\""
   ]
  },
  {
   "cell_type": "code",
   "execution_count": 17,
   "id": "c066aa5d",
   "metadata": {
    "execution": {
     "iopub.execute_input": "2022-11-22T10:48:30.227528Z",
     "iopub.status.busy": "2022-11-22T10:48:30.227107Z",
     "iopub.status.idle": "2022-11-22T10:48:31.585742Z",
     "shell.execute_reply": "2022-11-22T10:48:31.584720Z"
    },
    "papermill": {
     "duration": 1.373926,
     "end_time": "2022-11-22T10:48:31.587590",
     "exception": false,
     "start_time": "2022-11-22T10:48:30.213664",
     "status": "completed"
    },
    "tags": []
   },
   "outputs": [
    {
     "data": {
      "text/html": [
       "<style type=\"text/css\">\n",
       "#T_537ca_row0_col0, #T_537ca_row1_col0, #T_537ca_row2_col0, #T_537ca_row3_col0, #T_537ca_row4_col0, #T_537ca_row5_col0, #T_537ca_row6_col0, #T_537ca_row7_col0 {\n",
       "  text-align: left;\n",
       "}\n",
       "</style>\n",
       "<table id=\"T_537ca_\" style='display:inline'>\n",
       "  <caption>Describe Salary From</caption>\n",
       "  <thead>\n",
       "    <tr>\n",
       "      <th class=\"blank level0\" >&nbsp;</th>\n",
       "      <th class=\"col_heading level0 col0\" >salary_from</th>\n",
       "    </tr>\n",
       "  </thead>\n",
       "  <tbody>\n",
       "    <tr>\n",
       "      <th id=\"T_537ca_level0_row0\" class=\"row_heading level0 row0\" >count</th>\n",
       "      <td id=\"T_537ca_row0_col0\" class=\"data row0 col0\" >460.000000</td>\n",
       "    </tr>\n",
       "    <tr>\n",
       "      <th id=\"T_537ca_level0_row1\" class=\"row_heading level0 row1\" >mean</th>\n",
       "      <td id=\"T_537ca_row1_col0\" class=\"data row1 col0\" >71674.902174</td>\n",
       "    </tr>\n",
       "    <tr>\n",
       "      <th id=\"T_537ca_level0_row2\" class=\"row_heading level0 row2\" >std</th>\n",
       "      <td id=\"T_537ca_row2_col0\" class=\"data row2 col0\" >35950.782975</td>\n",
       "    </tr>\n",
       "    <tr>\n",
       "      <th id=\"T_537ca_level0_row3\" class=\"row_heading level0 row3\" >min</th>\n",
       "      <td id=\"T_537ca_row3_col0\" class=\"data row3 col0\" >10000.000000</td>\n",
       "    </tr>\n",
       "    <tr>\n",
       "      <th id=\"T_537ca_level0_row4\" class=\"row_heading level0 row4\" >25%</th>\n",
       "      <td id=\"T_537ca_row4_col0\" class=\"data row4 col0\" >45000.000000</td>\n",
       "    </tr>\n",
       "    <tr>\n",
       "      <th id=\"T_537ca_level0_row5\" class=\"row_heading level0 row5\" >50%</th>\n",
       "      <td id=\"T_537ca_row5_col0\" class=\"data row5 col0\" >65000.000000</td>\n",
       "    </tr>\n",
       "    <tr>\n",
       "      <th id=\"T_537ca_level0_row6\" class=\"row_heading level0 row6\" >75%</th>\n",
       "      <td id=\"T_537ca_row6_col0\" class=\"data row6 col0\" >90000.000000</td>\n",
       "    </tr>\n",
       "    <tr>\n",
       "      <th id=\"T_537ca_level0_row7\" class=\"row_heading level0 row7\" >max</th>\n",
       "      <td id=\"T_537ca_row7_col0\" class=\"data row7 col0\" >180000.000000</td>\n",
       "    </tr>\n",
       "  </tbody>\n",
       "</table>\n",
       "          <style type=\"text/css\">\n",
       "#T_7bf2b_row0_col0, #T_7bf2b_row1_col0, #T_7bf2b_row2_col0, #T_7bf2b_row3_col0, #T_7bf2b_row4_col0, #T_7bf2b_row5_col0, #T_7bf2b_row6_col0, #T_7bf2b_row7_col0 {\n",
       "  text-align: left;\n",
       "}\n",
       "</style>\n",
       "<table id=\"T_7bf2b_\" style='display:inline'>\n",
       "  <caption>Describe Salary To</caption>\n",
       "  <thead>\n",
       "    <tr>\n",
       "      <th class=\"blank level0\" >&nbsp;</th>\n",
       "      <th class=\"col_heading level0 col0\" >salary_to</th>\n",
       "    </tr>\n",
       "  </thead>\n",
       "  <tbody>\n",
       "    <tr>\n",
       "      <th id=\"T_7bf2b_level0_row0\" class=\"row_heading level0 row0\" >count</th>\n",
       "      <td id=\"T_7bf2b_row0_col0\" class=\"data row0 col0\" >460.000000</td>\n",
       "    </tr>\n",
       "    <tr>\n",
       "      <th id=\"T_7bf2b_level0_row1\" class=\"row_heading level0 row1\" >mean</th>\n",
       "      <td id=\"T_7bf2b_row1_col0\" class=\"data row1 col0\" >101070.286957</td>\n",
       "    </tr>\n",
       "    <tr>\n",
       "      <th id=\"T_7bf2b_level0_row2\" class=\"row_heading level0 row2\" >std</th>\n",
       "      <td id=\"T_7bf2b_row2_col0\" class=\"data row2 col0\" >55324.892777</td>\n",
       "    </tr>\n",
       "    <tr>\n",
       "      <th id=\"T_7bf2b_level0_row3\" class=\"row_heading level0 row3\" >min</th>\n",
       "      <td id=\"T_7bf2b_row3_col0\" class=\"data row3 col0\" >15000.000000</td>\n",
       "    </tr>\n",
       "    <tr>\n",
       "      <th id=\"T_7bf2b_level0_row4\" class=\"row_heading level0 row4\" >25%</th>\n",
       "      <td id=\"T_7bf2b_row4_col0\" class=\"data row4 col0\" >60000.000000</td>\n",
       "    </tr>\n",
       "    <tr>\n",
       "      <th id=\"T_7bf2b_level0_row5\" class=\"row_heading level0 row5\" >50%</th>\n",
       "      <td id=\"T_7bf2b_row5_col0\" class=\"data row5 col0\" >80000.000000</td>\n",
       "    </tr>\n",
       "    <tr>\n",
       "      <th id=\"T_7bf2b_level0_row6\" class=\"row_heading level0 row6\" >75%</th>\n",
       "      <td id=\"T_7bf2b_row6_col0\" class=\"data row6 col0\" >130000.000000</td>\n",
       "    </tr>\n",
       "    <tr>\n",
       "      <th id=\"T_7bf2b_level0_row7\" class=\"row_heading level0 row7\" >max</th>\n",
       "      <td id=\"T_7bf2b_row7_col0\" class=\"data row7 col0\" >300000.000000</td>\n",
       "    </tr>\n",
       "  </tbody>\n",
       "</table>\n",
       "          "
      ],
      "text/plain": [
       "<IPython.core.display.HTML object>"
      ]
     },
     "metadata": {},
     "output_type": "display_data"
    },
    {
     "data": {
      "image/png": "[encoded data removed]",
      "text/plain": [
       "<Figure size 1200x800 with 4 Axes>"
      ]
     },
     "metadata": {
      "needs_background": "light"
     },
     "output_type": "display_data"
    }
   ],
   "source": [
    "display_side_by_side([pd.DataFrame(dg['salary_from'].describe()),\n",
    "                      pd.DataFrame(dg['salary_to'].describe())],\n",
    "                     ['Describe Salary From', 'Describe Salary To'], 10)\n",
    "\n",
    "\n",
    "se.set_palette(\"pastel\")\n",
    "fz = plt.figure('Salary plots', figsize=(12, 8), dpi=100)\n",
    "\n",
    "fz.add_subplot(2, 2, 1)\n",
    "plt.title('From / To: Boxplot')\n",
    "se.boxplot(data=dg[['salary_from', 'salary_to']].dropna(), width=0.5)\n",
    "\n",
    "fz.add_subplot(2, 2, 2)\n",
    "plt.title('From / To: Swarmplot Distribution')\n",
    "se.swarmplot(data=dg[['salary_from', 'salary_to']].dropna(), size=3)\n",
    "\n",
    "fz.add_subplot(2, 2, 3)\n",
    "plt.title('From: Distribution ')\n",
    "se.histplot(dg['salary_from'].dropna(), bins=30, color='C0', kde=True)\n",
    "plt.grid(True)\n",
    "plt.xlim([0, dg['salary_from'].max()])\n",
    "plt.yticks([], [])\n",
    "\n",
    "fz.add_subplot(2, 2, 4)\n",
    "plt.title('To: Distribution')\n",
    "se.histplot(dg['salary_to'].dropna(), bins=30, color='C1', kde=True)\n",
    "plt.grid(True)\n",
    "plt.xlim([0, dg['salary_to'].max()])\n",
    "plt.yticks([], [])\n",
    "plt.tight_layout()"
   ]
  },
  {
   "cell_type": "markdown",
   "id": "e9e5e8c0",
   "metadata": {
    "papermill": {
     "duration": 0.015007,
     "end_time": "2022-11-22T10:48:31.617492",
     "exception": false,
     "start_time": "2022-11-22T10:48:31.602485",
     "status": "completed"
    },
    "tags": []
   },
   "source": [
    "По графикам видно:\n",
    "- среднее значение `от/до` соответственно равно 71_000 и 101_000 рублей\n",
    "- медианное значение `от/до` соответственно равно 65_000 и 80_000 рублей\n",
    "- большая часть вакансий лежит в промежутке от 30_000 до 100_000 рублей\n",
    "- по данным `от` минимальная зарплата 10_000 рублей, а максимальная 180_000 рублей\n",
    "- по данным `до` минимальная зарплата 15_000 рублей, а максимальная 300_000 рублей\n",
    "\n",
    "Ожидаемо видно что чем выше зарплата тем меньше вакансий."
   ]
  },
  {
   "cell_type": "markdown",
   "id": "f009971b",
   "metadata": {
    "papermill": {
     "duration": 0.014109,
     "end_time": "2022-11-22T10:48:31.646792",
     "exception": false,
     "start_time": "2022-11-22T10:48:31.632683",
     "status": "completed"
    },
    "tags": []
   },
   "source": [
    "<a id=\"data_salary_to_lvl\"></a>\n",
    "### Зависимость зарплаты \"от/до\" от опыта"
   ]
  },
  {
   "cell_type": "code",
   "execution_count": 18,
   "id": "513ffd3e",
   "metadata": {
    "execution": {
     "iopub.execute_input": "2022-11-22T10:48:31.677527Z",
     "iopub.status.busy": "2022-11-22T10:48:31.676965Z",
     "iopub.status.idle": "2022-11-22T10:48:32.263964Z",
     "shell.execute_reply": "2022-11-22T10:48:32.263134Z"
    },
    "papermill": {
     "duration": 0.604432,
     "end_time": "2022-11-22T10:48:32.265762",
     "exception": false,
     "start_time": "2022-11-22T10:48:31.661330",
     "status": "completed"
    },
    "tags": []
   },
   "outputs": [
    {
     "data": {
      "image/png": "[encoded data removed]",
      "text/plain": [
       "<Figure size 1600x800 with 2 Axes>"
      ]
     },
     "metadata": {
      "needs_background": "light"
     },
     "output_type": "display_data"
    }
   ],
   "source": [
    "se.set_palette(\"pastel\")\n",
    "exp_dic = {'Нет опыта': 0, 'От 1 года до 3 лет': 1, 'От 3 до 6 лет': 2, 'Более 6 лет': 3}\n",
    "experience = dg['experience'].map(exp_dic)\n",
    "\n",
    "\n",
    "fig = plt.figure(figsize=(16, 8), dpi=100)\n",
    "plt.suptitle('Salary vs Experience', y=1.02, fontsize=18)\n",
    "\n",
    "fig.add_subplot(1, 2, 1);\n",
    "se.regplot(x=experience, y=dg['salary_from'], color=\"C0\", x_jitter=.1, scatter_kws={'alpha':0.5});\n",
    "plt.xticks(list(range(4)), labels=exp_dic.keys(), rotation='vertical');\n",
    "\n",
    "fig.add_subplot(1, 2, 2);\n",
    "se.regplot(x=experience, y=dg['salary_to'], color=\"C1\", x_jitter=.1, scatter_kws={'alpha':0.5});\n",
    "plt.xticks(list(range(4)), labels=exp_dic.keys(), rotation='vertical');\n",
    "\n",
    "plt.tight_layout()"
   ]
  },
  {
   "cell_type": "markdown",
   "id": "633cf6ed",
   "metadata": {
    "papermill": {
     "duration": 0.015836,
     "end_time": "2022-11-22T10:48:32.297686",
     "exception": false,
     "start_time": "2022-11-22T10:48:32.281850",
     "status": "completed"
    },
    "tags": []
   },
   "source": [
    "По графикам можно определить:\n",
    "- больше всего вакансий с требованием опыта `от 1 до 3` и `от 3 до 6`\n",
    "- хорошо видна корреляция `чем больше опыта, тем выше зарплата`\n",
    "- достаточно много вакансий не требующих опыта\n",
    "- различия в оплате между `от 1 до 3` и `от 3 до 6` практически нет\n",
    "- диапазон зарплат больше у категорий `нет опыта` и `от 3 до 6`"
   ]
  },
  {
   "cell_type": "markdown",
   "id": "f0443d46",
   "metadata": {
    "papermill": {
     "duration": 0.016852,
     "end_time": "2022-11-22T10:48:32.330841",
     "exception": false,
     "start_time": "2022-11-22T10:48:32.313989",
     "status": "completed"
    },
    "tags": []
   },
   "source": [
    "<a id=\"data_salary_mean\"></a>\n",
    "### Анализ сренего зраплаты"
   ]
  },
  {
   "cell_type": "code",
   "execution_count": 19,
   "id": "db356854",
   "metadata": {
    "execution": {
     "iopub.execute_input": "2022-11-22T10:48:32.364677Z",
     "iopub.status.busy": "2022-11-22T10:48:32.364272Z",
     "iopub.status.idle": "2022-11-22T10:48:32.991884Z",
     "shell.execute_reply": "2022-11-22T10:48:32.991165Z"
    },
    "papermill": {
     "duration": 0.646674,
     "end_time": "2022-11-22T10:48:32.993656",
     "exception": false,
     "start_time": "2022-11-22T10:48:32.346982",
     "status": "completed"
    },
    "tags": []
   },
   "outputs": [
    {
     "data": {
      "image/png": "[encoded data removed]",
      "text/plain": [
       "<Figure size 1200x800 with 4 Axes>"
      ]
     },
     "metadata": {
      "needs_background": "light"
     },
     "output_type": "display_data"
    }
   ],
   "source": [
    "se.set_palette(\"pastel\")\n",
    "fz = plt.figure('Salary mean plots', figsize=(12, 8), dpi=100)\n",
    "\n",
    "exp_dic = {'Нет опыта': 0, 'От 1 года до 3 лет': 1, 'От 3 до 6 лет': 2, 'Более 6 лет': 3}\n",
    "experience = dg['experience'].map(exp_dic)\n",
    "\n",
    "fz.add_subplot(2, 2, 1);\n",
    "plt.title('Salary mean: Boxplot');\n",
    "se.boxplot(data=dg['salary_mean'].dropna(), width=0.4,  color='C2');\n",
    "\n",
    "fz.add_subplot(2, 2, 2);\n",
    "plt.title('Salary mean: Distribution ');\n",
    "se.histplot(dg['salary_mean'].dropna(), bins=30, color='C2', kde=True);\n",
    "plt.grid(True);\n",
    "\n",
    "fz.add_subplot(2, 2, 3);\n",
    "plt.title('Mean Salary vs Experience');\n",
    "se.lineplot(data=dg.pivot_table(index= 'experience', values='salary_mean').sort_values(by='salary_mean'),\n",
    "            x=\"experience\", y=\"salary_mean\",color=\"C2\");\n",
    "plt.grid(True);\n",
    "\n",
    "fz.add_subplot(2, 2, 4)\n",
    "plt.title('Salary vs Experience');\n",
    "se.regplot(x=experience, y=dg['salary_to'], color=\"C2\", x_jitter=.1, scatter_kws={'alpha':0.5});\n",
    "plt.xticks(list(range(4)), labels=exp_dic.keys());\n"
   ]
  },
  {
   "cell_type": "markdown",
   "id": "1160ede7",
   "metadata": {
    "papermill": {
     "duration": 0.017428,
     "end_time": "2022-11-22T10:48:33.027766",
     "exception": false,
     "start_time": "2022-11-22T10:48:33.010338",
     "status": "completed"
    },
    "tags": []
   },
   "source": [
    "<a id=\"data_salary_conclusion\"></a>\n",
    "### Вывод\n",
    "Проанализировав данные по `от/до` и `среднего по ним` зарплат. Хорошо видно, что больше всего вакансий с зарплатой от 40_000 до 110_000 рублей. Так же на рынке труда нужны молодые специалисты, но ожидаемая зарплата для них 30_000 - 80_000 рублей. А так же правило `чем больше опыта, тем выше зарплата` так же работает."
   ]
  },
  {
   "cell_type": "markdown",
   "id": "f5bcfe36",
   "metadata": {
    "papermill": {
     "duration": 0.018857,
     "end_time": "2022-11-22T10:48:33.064483",
     "exception": false,
     "start_time": "2022-11-22T10:48:33.045626",
     "status": "completed"
    },
    "tags": []
   },
   "source": [
    "<a id=\"data_salary_city\"></a>\n",
    "### Зависимость зарплаты от города"
   ]
  },
  {
   "cell_type": "markdown",
   "id": "24553fd3",
   "metadata": {
    "papermill": {
     "duration": 0.016966,
     "end_time": "2022-11-22T10:48:33.099247",
     "exception": false,
     "start_time": "2022-11-22T10:48:33.082281",
     "status": "completed"
    },
    "tags": []
   },
   "source": [
    "Для анализа зависимости зарплаты от города, для начала найдем топ 10 самых частых городов в датафрейме."
   ]
  },
  {
   "cell_type": "code",
   "execution_count": 20,
   "id": "8f43eeea",
   "metadata": {
    "execution": {
     "iopub.execute_input": "2022-11-22T10:48:33.134659Z",
     "iopub.status.busy": "2022-11-22T10:48:33.134321Z",
     "iopub.status.idle": "2022-11-22T10:48:33.150890Z",
     "shell.execute_reply": "2022-11-22T10:48:33.149906Z"
    },
    "papermill": {
     "duration": 0.03774,
     "end_time": "2022-11-22T10:48:33.153730",
     "exception": false,
     "start_time": "2022-11-22T10:48:33.115990",
     "status": "completed"
    },
    "tags": []
   },
   "outputs": [
    {
     "data": {
      "text/html": [
       "<div>\n",
       "<style scoped>\n",
       "    .dataframe tbody tr th:only-of-type {\n",
       "        vertical-align: middle;\n",
       "    }\n",
       "\n",
       "    .dataframe tbody tr th {\n",
       "        vertical-align: top;\n",
       "    }\n",
       "\n",
       "    .dataframe thead th {\n",
       "        text-align: right;\n",
       "    }\n",
       "</style>\n",
       "<table border=\"1\" class=\"dataframe\">\n",
       "  <thead>\n",
       "    <tr style=\"text-align: right;\">\n",
       "      <th></th>\n",
       "      <th>vacancy_name</th>\n",
       "    </tr>\n",
       "    <tr>\n",
       "      <th>city</th>\n",
       "      <th></th>\n",
       "    </tr>\n",
       "  </thead>\n",
       "  <tbody>\n",
       "    <tr>\n",
       "      <th>Москва</th>\n",
       "      <td>890</td>\n",
       "    </tr>\n",
       "    <tr>\n",
       "      <th>Санкт-Петербург</th>\n",
       "      <td>261</td>\n",
       "    </tr>\n",
       "    <tr>\n",
       "      <th>Екатеринбург</th>\n",
       "      <td>81</td>\n",
       "    </tr>\n",
       "    <tr>\n",
       "      <th>Новосибирск</th>\n",
       "      <td>56</td>\n",
       "    </tr>\n",
       "    <tr>\n",
       "      <th>Казань</th>\n",
       "      <td>52</td>\n",
       "    </tr>\n",
       "    <tr>\n",
       "      <th>Нижний Новгород</th>\n",
       "      <td>49</td>\n",
       "    </tr>\n",
       "    <tr>\n",
       "      <th>Краснодар</th>\n",
       "      <td>41</td>\n",
       "    </tr>\n",
       "    <tr>\n",
       "      <th>Ростов-на-Дону</th>\n",
       "      <td>32</td>\n",
       "    </tr>\n",
       "    <tr>\n",
       "      <th>Воронеж</th>\n",
       "      <td>29</td>\n",
       "    </tr>\n",
       "    <tr>\n",
       "      <th>Самара</th>\n",
       "      <td>26</td>\n",
       "    </tr>\n",
       "  </tbody>\n",
       "</table>\n",
       "</div>"
      ],
      "text/plain": [
       "                 vacancy_name\n",
       "city                         \n",
       "Москва                    890\n",
       "Санкт-Петербург           261\n",
       "Екатеринбург               81\n",
       "Новосибирск                56\n",
       "Казань                     52\n",
       "Нижний Новгород            49\n",
       "Краснодар                  41\n",
       "Ростов-на-Дону             32\n",
       "Воронеж                    29\n",
       "Самара                     26"
      ]
     },
     "execution_count": 20,
     "metadata": {},
     "output_type": "execute_result"
    }
   ],
   "source": [
    "top_10 = df[df.city.isin(df['city'].value_counts()[0:10].index)]\n",
    "top_10.pivot_table(index='city',values='vacancy_name',aggfunc='count').sort_values(by='vacancy_name',ascending=False)"
   ]
  },
  {
   "cell_type": "markdown",
   "id": "93013903",
   "metadata": {
    "papermill": {
     "duration": 0.017603,
     "end_time": "2022-11-22T10:48:33.188532",
     "exception": false,
     "start_time": "2022-11-22T10:48:33.170929",
     "status": "completed"
    },
    "tags": []
   },
   "source": [
    "В топ 10 ожидаемо и с огромным перевесом, попала Москва и Петербург. А так же другие города миллионники. Для анализа возьмем следующие срезы:\n",
    "- Москва\n",
    "- Петербург\n",
    "- Воронеж\n",
    "- все остальные города"
   ]
  },
  {
   "cell_type": "code",
   "execution_count": 21,
   "id": "51392477",
   "metadata": {
    "execution": {
     "iopub.execute_input": "2022-11-22T10:48:33.225634Z",
     "iopub.status.busy": "2022-11-22T10:48:33.225083Z",
     "iopub.status.idle": "2022-11-22T10:48:33.659735Z",
     "shell.execute_reply": "2022-11-22T10:48:33.658103Z"
    },
    "papermill": {
     "duration": 0.455388,
     "end_time": "2022-11-22T10:48:33.661573",
     "exception": false,
     "start_time": "2022-11-22T10:48:33.206185",
     "status": "completed"
    },
    "tags": []
   },
   "outputs": [
    {
     "data": {
      "image/png": "[encoded data removed]",
      "text/plain": [
       "<Figure size 1200x800 with 4 Axes>"
      ]
     },
     "metadata": {
      "needs_background": "light"
     },
     "output_type": "display_data"
    }
   ],
   "source": [
    "se.set_palette(\"pastel\")\n",
    "fz = plt.figure('Salary plots', figsize=(12, 8), dpi=100)\n",
    "\n",
    "fz.add_subplot(2, 2, 1)\n",
    "plt.title('Salary mean: остальные регионы России')\n",
    "se.boxplot(data=dg.query('city not in [\"Москва\", \"Воронеж\", \"Санкт-Петербург\"]')\n",
    "                        ['salary_mean'].dropna().reset_index(drop=True), width=0.4,  color='C0');\n",
    "plt.grid(True)\n",
    "\n",
    "fz.add_subplot(2, 2, 2)\n",
    "plt.title('Salary mean: Москва')\n",
    "se.boxplot(data=dg.query('city == \"Москва\"')\n",
    "                        ['salary_mean'].dropna().reset_index(drop=True), width=0.4,  color='C1');\n",
    "plt.grid(True)\n",
    "\n",
    "fz.add_subplot(2, 2, 3)\n",
    "plt.title('Salary mean: Санкт-Петербург')\n",
    "se.boxplot(data=df.query('city == \"Санкт-Петербург\"')\n",
    "                        ['salary_mean'].dropna().reset_index(drop=True), width=0.4,  color='C2');\n",
    "plt.grid(True)\n",
    "\n",
    "fz.add_subplot(2, 2, 4)\n",
    "plt.title('Salary mean: Воронеж')\n",
    "se.boxplot(data=df.query('city == \"Воронеж\"')\n",
    "                        ['salary_mean'].dropna().reset_index(drop=True), width=0.4,  color='C3');\n",
    "plt.grid(True)"
   ]
  },
  {
   "cell_type": "markdown",
   "id": "906f759a",
   "metadata": {
    "papermill": {
     "duration": 0.017798,
     "end_time": "2022-11-22T10:48:33.697142",
     "exception": false,
     "start_time": "2022-11-22T10:48:33.679344",
     "status": "completed"
    },
    "tags": []
   },
   "source": [
    "<a id=\"data_salary_city_conclusion\"></a>\n",
    "### Вывод\n",
    "По графикам видна разница зарплат в Москве и Петербурге и остальных регионах России. Без двух столиц медиана средней зарплаты, находиться на `60_000` рублей, в то время как в Москве и Петербурге она составляет `105_000` и `90_000` соответственно. Получается что средняя зарплата в столицах и регионах, отличается почти в 2 раза. Так же размах зарплат в столицах на много больше чем в регионах."
   ]
  },
  {
   "cell_type": "markdown",
   "id": "92dc37a3",
   "metadata": {
    "papermill": {
     "duration": 0.020714,
     "end_time": "2022-11-22T10:48:33.737052",
     "exception": false,
     "start_time": "2022-11-22T10:48:33.716338",
     "status": "completed"
    },
    "tags": []
   },
   "source": [
    "<a id=\"data_skills_description\"></a>\n",
    "## Анализ навыков и описания вакансий"
   ]
  },
  {
   "cell_type": "markdown",
   "id": "250c553e",
   "metadata": {
    "papermill": {
     "duration": 0.017763,
     "end_time": "2022-11-22T10:48:33.772690",
     "exception": false,
     "start_time": "2022-11-22T10:48:33.754927",
     "status": "completed"
    },
    "tags": []
   },
   "source": [
    "#### Анализ ключевых навыков\n",
    "Функция для анализа ключевых навыков и составления списка (ключевой навык - количество повторений)"
   ]
  },
  {
   "cell_type": "code",
   "execution_count": 22,
   "id": "48eaca84",
   "metadata": {
    "execution": {
     "iopub.execute_input": "2022-11-22T10:48:33.809520Z",
     "iopub.status.busy": "2022-11-22T10:48:33.809176Z",
     "iopub.status.idle": "2022-11-22T10:48:33.816979Z",
     "shell.execute_reply": "2022-11-22T10:48:33.816283Z"
    },
    "papermill": {
     "duration": 0.028371,
     "end_time": "2022-11-22T10:48:33.818648",
     "exception": false,
     "start_time": "2022-11-22T10:48:33.790277",
     "status": "completed"
    },
    "tags": []
   },
   "outputs": [],
   "source": [
    "# принимает:\n",
    "# 'df' - таблица с данными\n",
    "\n",
    "# возвращает:\n",
    "# Series с отсортированными значениями (ключевой навых - количество повторений)\n",
    "\n",
    "\n",
    "def top_skills(df):\n",
    "    # преводим ключевые навыки из Series в List\n",
    "    skills_df = df['skills'].to_list()\n",
    "    # список для всех ключевых навыков со всех вакансий\n",
    "    skills = []\n",
    "    # заполняем список всех ключевых навыков\n",
    "    for skill in skills_df:\n",
    "        if skill == skill:\n",
    "            for el in skill[1:-1].split(', '):\n",
    "                if el != '':\n",
    "                    skills.append(re.sub('\\'', '', el.lower()))\n",
    "\n",
    "    # выбираем все уникальные значения ключевых навыков\n",
    "    set_skills = set(skills)\n",
    "    # создаем словарь с уникальными словами и их количеством повторений\n",
    "    dct_skills = {el:skills.count(el) for el in set_skills}\n",
    "    # сортируем данные\n",
    "    srt_skills = dict(sorted(dct_skills.items(), key=lambda x: x[1], reverse=True))\n",
    "    # взращаем осортированные данные (ключевой навых - количество повторений)\n",
    "    return pd.Series(srt_skills, name='skills')"
   ]
  },
  {
   "cell_type": "markdown",
   "id": "e4f318e5",
   "metadata": {
    "papermill": {
     "duration": 0.017881,
     "end_time": "2022-11-22T10:48:33.854604",
     "exception": false,
     "start_time": "2022-11-22T10:48:33.836723",
     "status": "completed"
    },
    "tags": []
   },
   "source": [
    "<a id=\"data_description\"></a>\n",
    "### Анализ описания вакансий\n",
    "Функция для анализа всех слов в описании вакансий, на выбор англ или рус языка. И составления списка (слово - количество повторений)"
   ]
  },
  {
   "cell_type": "code",
   "execution_count": 23,
   "id": "d4846d6a",
   "metadata": {
    "execution": {
     "iopub.execute_input": "2022-11-22T10:48:33.893714Z",
     "iopub.status.busy": "2022-11-22T10:48:33.893342Z",
     "iopub.status.idle": "2022-11-22T10:48:33.901118Z",
     "shell.execute_reply": "2022-11-22T10:48:33.900419Z"
    },
    "papermill": {
     "duration": 0.029519,
     "end_time": "2022-11-22T10:48:33.903074",
     "exception": false,
     "start_time": "2022-11-22T10:48:33.873555",
     "status": "completed"
    },
    "tags": []
   },
   "outputs": [],
   "source": [
    "# принимает:\n",
    "# 'df' - таблица с данными\n",
    "# 'lang' - на каком языке ищем повторы слов\n",
    "# 'word_length' - пороговое кол-во символов в слове\n",
    "\n",
    "# возвращает:\n",
    "# Series с отсортированными значениями (слово - количество повоторений) \n",
    "\n",
    "def top_description_words(df, lang='en', word_length=2):\n",
    "    # на каком языке искать слова\n",
    "    if lang == 'ru':\n",
    "        lang = '[а-яА-Я]+'\n",
    "    else:\n",
    "        lang = '[a-zA-Z]+'\n",
    "    \n",
    "    # преобразуем series в list\n",
    "    words_df = df['description'].to_list()\n",
    "    # убираем лишнее из строки и переводим все символы в нижний регистр\n",
    "    words_ls = ' '.join([re.sub('quot', ' ', \n",
    "                         re.sub(' +', ' ', \n",
    "                         re.sub('\\d+', '', \n",
    "                         el.strip().lower()))) \n",
    "                         for el in words_df])\n",
    "    # поиск все отдельных слов в зависимости от выбранного языка\n",
    "    words_re = re.findall(lang, words_ls)\n",
    "    # отбрасываем все слова короче word_length символов\n",
    "    words_l2 = [el for el in words_re if len(el) > word_length]\n",
    "    # отделяем все уникальные слова\n",
    "    words_st = set(words_l2)\n",
    "    # создаем словарь с уникальными словами и их количеством повторений\n",
    "    words_cnt = {el : words_l2.count(el) for el in words_st}\n",
    "    # возращаем Series с отсортированными значениями (слово - количество повоторений)\n",
    "    return pd.Series(dict(sorted(words_cnt.items(), key=lambda x: x[1], reverse=True)))"
   ]
  },
  {
   "cell_type": "markdown",
   "id": "457fbfe1",
   "metadata": {
    "papermill": {
     "duration": 0.017849,
     "end_time": "2022-11-22T10:48:33.939483",
     "exception": false,
     "start_time": "2022-11-22T10:48:33.921634",
     "status": "completed"
    },
    "tags": []
   },
   "source": [
    "Ищем самые часто повторяющиеся слова:\n",
    "- на русском\n",
    "- на английском\n",
    "\n",
    "**Очень долго обрабатывает, лучше запустить 1 раз**"
   ]
  },
  {
   "cell_type": "code",
   "execution_count": 24,
   "id": "64d0baf0",
   "metadata": {
    "execution": {
     "iopub.execute_input": "2022-11-22T10:48:33.978865Z",
     "iopub.status.busy": "2022-11-22T10:48:33.978431Z",
     "iopub.status.idle": "2022-11-22T10:51:04.727621Z",
     "shell.execute_reply": "2022-11-22T10:51:04.726153Z"
    },
    "papermill": {
     "duration": 150.772752,
     "end_time": "2022-11-22T10:51:04.730345",
     "exception": false,
     "start_time": "2022-11-22T10:48:33.957593",
     "status": "completed"
    },
    "tags": []
   },
   "outputs": [],
   "source": [
    "# поиск самых часто повторяющихся ключевых навыков\n",
    "top_ds_skills = top_skills(df)\n",
    "# поиск самых часто повторяющихся слов в описании вакансии на английском\n",
    "top_ds_en_words = top_description_words(df, 'en')\n",
    "# поиск самых часто повторяющихся слов в описании вакансии на русском\n",
    "top_ds_ru_words = top_description_words(df, 'ru', 3)"
   ]
  },
  {
   "cell_type": "markdown",
   "id": "e3515682",
   "metadata": {
    "papermill": {
     "duration": 0.01848,
     "end_time": "2022-11-22T10:51:04.767684",
     "exception": false,
     "start_time": "2022-11-22T10:51:04.749204",
     "status": "completed"
    },
    "tags": []
   },
   "source": [
    "Выводим на экран самые часто встречающиеся:\n",
    "- ключевые навыки\n",
    "- повторяющиеся англ слова в описании вакансий\n",
    "- повторяющиеся рус слова в описании вакансий"
   ]
  },
  {
   "cell_type": "code",
   "execution_count": 25,
   "id": "8a6d12e1",
   "metadata": {
    "execution": {
     "iopub.execute_input": "2022-11-22T10:51:04.807605Z",
     "iopub.status.busy": "2022-11-22T10:51:04.807228Z",
     "iopub.status.idle": "2022-11-22T10:51:04.827912Z",
     "shell.execute_reply": "2022-11-22T10:51:04.826966Z"
    },
    "papermill": {
     "duration": 0.042793,
     "end_time": "2022-11-22T10:51:04.829566",
     "exception": false,
     "start_time": "2022-11-22T10:51:04.786773",
     "status": "completed"
    },
    "tags": []
   },
   "outputs": [
    {
     "data": {
      "text/html": [
       "<style type=\"text/css\">\n",
       "#T_9836b_row0_col0, #T_9836b_row0_col1, #T_9836b_row1_col0, #T_9836b_row1_col1, #T_9836b_row2_col0, #T_9836b_row2_col1, #T_9836b_row3_col0, #T_9836b_row3_col1, #T_9836b_row4_col0, #T_9836b_row4_col1, #T_9836b_row5_col0, #T_9836b_row5_col1, #T_9836b_row6_col0, #T_9836b_row6_col1, #T_9836b_row7_col0, #T_9836b_row7_col1, #T_9836b_row8_col0, #T_9836b_row8_col1, #T_9836b_row9_col0, #T_9836b_row9_col1, #T_9836b_row10_col0, #T_9836b_row10_col1, #T_9836b_row11_col0, #T_9836b_row11_col1, #T_9836b_row12_col0, #T_9836b_row12_col1, #T_9836b_row13_col0, #T_9836b_row13_col1, #T_9836b_row14_col0, #T_9836b_row14_col1, #T_9836b_row15_col0, #T_9836b_row15_col1, #T_9836b_row16_col0, #T_9836b_row16_col1, #T_9836b_row17_col0, #T_9836b_row17_col1, #T_9836b_row18_col0, #T_9836b_row18_col1, #T_9836b_row19_col0, #T_9836b_row19_col1 {\n",
       "  text-align: left;\n",
       "}\n",
       "</style>\n",
       "<table id=\"T_9836b_\" style='display:inline'>\n",
       "  <caption>Top skills:</caption>\n",
       "  <thead>\n",
       "    <tr>\n",
       "      <th class=\"blank level0\" >&nbsp;</th>\n",
       "      <th class=\"col_heading level0 col0\" >skills</th>\n",
       "      <th class=\"col_heading level0 col1\" >count</th>\n",
       "    </tr>\n",
       "  </thead>\n",
       "  <tbody>\n",
       "    <tr>\n",
       "      <th id=\"T_9836b_level0_row0\" class=\"row_heading level0 row0\" >0</th>\n",
       "      <td id=\"T_9836b_row0_col0\" class=\"data row0 col0\" >аналитическое мышление</td>\n",
       "      <td id=\"T_9836b_row0_col1\" class=\"data row0 col1\" >505</td>\n",
       "    </tr>\n",
       "    <tr>\n",
       "      <th id=\"T_9836b_level0_row1\" class=\"row_heading level0 row1\" >1</th>\n",
       "      <td id=\"T_9836b_row1_col0\" class=\"data row1 col0\" >sql</td>\n",
       "      <td id=\"T_9836b_row1_col1\" class=\"data row1 col1\" >500</td>\n",
       "    </tr>\n",
       "    <tr>\n",
       "      <th id=\"T_9836b_level0_row2\" class=\"row_heading level0 row2\" >2</th>\n",
       "      <td id=\"T_9836b_row2_col0\" class=\"data row2 col0\" >ms powerpoint</td>\n",
       "      <td id=\"T_9836b_row2_col1\" class=\"data row2 col1\" >374</td>\n",
       "    </tr>\n",
       "    <tr>\n",
       "      <th id=\"T_9836b_level0_row3\" class=\"row_heading level0 row3\" >3</th>\n",
       "      <td id=\"T_9836b_row3_col0\" class=\"data row3 col0\" >анализ данных</td>\n",
       "      <td id=\"T_9836b_row3_col1\" class=\"data row3 col1\" >362</td>\n",
       "    </tr>\n",
       "    <tr>\n",
       "      <th id=\"T_9836b_level0_row4\" class=\"row_heading level0 row4\" >4</th>\n",
       "      <td id=\"T_9836b_row4_col0\" class=\"data row4 col0\" >работа с большим объемом информации</td>\n",
       "      <td id=\"T_9836b_row4_col1\" class=\"data row4 col1\" >350</td>\n",
       "    </tr>\n",
       "    <tr>\n",
       "      <th id=\"T_9836b_level0_row5\" class=\"row_heading level0 row5\" >5</th>\n",
       "      <td id=\"T_9836b_row5_col0\" class=\"data row5 col0\" >бизнес-анализ</td>\n",
       "      <td id=\"T_9836b_row5_col1\" class=\"data row5 col1\" >230</td>\n",
       "    </tr>\n",
       "    <tr>\n",
       "      <th id=\"T_9836b_level0_row6\" class=\"row_heading level0 row6\" >6</th>\n",
       "      <td id=\"T_9836b_row6_col0\" class=\"data row6 col0\" >ms excel</td>\n",
       "      <td id=\"T_9836b_row6_col1\" class=\"data row6 col1\" >215</td>\n",
       "    </tr>\n",
       "    <tr>\n",
       "      <th id=\"T_9836b_level0_row7\" class=\"row_heading level0 row7\" >7</th>\n",
       "      <td id=\"T_9836b_row7_col0\" class=\"data row7 col0\" >bpmn</td>\n",
       "      <td id=\"T_9836b_row7_col1\" class=\"data row7 col1\" >213</td>\n",
       "    </tr>\n",
       "    <tr>\n",
       "      <th id=\"T_9836b_level0_row8\" class=\"row_heading level0 row8\" >8</th>\n",
       "      <td id=\"T_9836b_row8_col0\" class=\"data row8 col0\" >python</td>\n",
       "      <td id=\"T_9836b_row8_col1\" class=\"data row8 col1\" >163</td>\n",
       "    </tr>\n",
       "    <tr>\n",
       "      <th id=\"T_9836b_level0_row9\" class=\"row_heading level0 row9\" >9</th>\n",
       "      <td id=\"T_9836b_row9_col0\" class=\"data row9 col0\" >работа в команде</td>\n",
       "      <td id=\"T_9836b_row9_col1\" class=\"data row9 col1\" >161</td>\n",
       "    </tr>\n",
       "    <tr>\n",
       "      <th id=\"T_9836b_level0_row10\" class=\"row_heading level0 row10\" >10</th>\n",
       "      <td id=\"T_9836b_row10_col0\" class=\"data row10 col0\" >uml</td>\n",
       "      <td id=\"T_9836b_row10_col1\" class=\"data row10 col1\" >156</td>\n",
       "    </tr>\n",
       "    <tr>\n",
       "      <th id=\"T_9836b_level0_row11\" class=\"row_heading level0 row11\" >11</th>\n",
       "      <td id=\"T_9836b_row11_col0\" class=\"data row11 col0\" >аналитика</td>\n",
       "      <td id=\"T_9836b_row11_col1\" class=\"data row11 col1\" >152</td>\n",
       "    </tr>\n",
       "    <tr>\n",
       "      <th id=\"T_9836b_level0_row12\" class=\"row_heading level0 row12\" >12</th>\n",
       "      <td id=\"T_9836b_row12_col0\" class=\"data row12 col0\" >разработка технических заданий</td>\n",
       "      <td id=\"T_9836b_row12_col1\" class=\"data row12 col1\" >142</td>\n",
       "    </tr>\n",
       "    <tr>\n",
       "      <th id=\"T_9836b_level0_row13\" class=\"row_heading level0 row13\" >13</th>\n",
       "      <td id=\"T_9836b_row13_col0\" class=\"data row13 col0\" >аналитические исследования</td>\n",
       "      <td id=\"T_9836b_row13_col1\" class=\"data row13 col1\" >138</td>\n",
       "    </tr>\n",
       "    <tr>\n",
       "      <th id=\"T_9836b_level0_row14\" class=\"row_heading level0 row14\" >14</th>\n",
       "      <td id=\"T_9836b_row14_col0\" class=\"data row14 col0\" >excel</td>\n",
       "      <td id=\"T_9836b_row14_col1\" class=\"data row14 col1\" >133</td>\n",
       "    </tr>\n",
       "    <tr>\n",
       "      <th id=\"T_9836b_level0_row15\" class=\"row_heading level0 row15\" >15</th>\n",
       "      <td id=\"T_9836b_row15_col0\" class=\"data row15 col0\" >системный анализ</td>\n",
       "      <td id=\"T_9836b_row15_col1\" class=\"data row15 col1\" >133</td>\n",
       "    </tr>\n",
       "    <tr>\n",
       "      <th id=\"T_9836b_level0_row16\" class=\"row_heading level0 row16\" >16</th>\n",
       "      <td id=\"T_9836b_row16_col0\" class=\"data row16 col0\" >английский язык</td>\n",
       "      <td id=\"T_9836b_row16_col1\" class=\"data row16 col1\" >128</td>\n",
       "    </tr>\n",
       "    <tr>\n",
       "      <th id=\"T_9836b_level0_row17\" class=\"row_heading level0 row17\" >17</th>\n",
       "      <td id=\"T_9836b_row17_col0\" class=\"data row17 col0\" >ms sql</td>\n",
       "      <td id=\"T_9836b_row17_col1\" class=\"data row17 col1\" >125</td>\n",
       "    </tr>\n",
       "    <tr>\n",
       "      <th id=\"T_9836b_level0_row18\" class=\"row_heading level0 row18\" >18</th>\n",
       "      <td id=\"T_9836b_row18_col0\" class=\"data row18 col0\" >power bi</td>\n",
       "      <td id=\"T_9836b_row18_col1\" class=\"data row18 col1\" >122</td>\n",
       "    </tr>\n",
       "    <tr>\n",
       "      <th id=\"T_9836b_level0_row19\" class=\"row_heading level0 row19\" >19</th>\n",
       "      <td id=\"T_9836b_row19_col0\" class=\"data row19 col0\" >управление проектами</td>\n",
       "      <td id=\"T_9836b_row19_col1\" class=\"data row19 col1\" >116</td>\n",
       "    </tr>\n",
       "  </tbody>\n",
       "</table>\n",
       "          <style type=\"text/css\">\n",
       "#T_f2eb0_row0_col0, #T_f2eb0_row0_col1, #T_f2eb0_row1_col0, #T_f2eb0_row1_col1, #T_f2eb0_row2_col0, #T_f2eb0_row2_col1, #T_f2eb0_row3_col0, #T_f2eb0_row3_col1, #T_f2eb0_row4_col0, #T_f2eb0_row4_col1, #T_f2eb0_row5_col0, #T_f2eb0_row5_col1, #T_f2eb0_row6_col0, #T_f2eb0_row6_col1, #T_f2eb0_row7_col0, #T_f2eb0_row7_col1, #T_f2eb0_row8_col0, #T_f2eb0_row8_col1, #T_f2eb0_row9_col0, #T_f2eb0_row9_col1, #T_f2eb0_row10_col0, #T_f2eb0_row10_col1, #T_f2eb0_row11_col0, #T_f2eb0_row11_col1, #T_f2eb0_row12_col0, #T_f2eb0_row12_col1, #T_f2eb0_row13_col0, #T_f2eb0_row13_col1, #T_f2eb0_row14_col0, #T_f2eb0_row14_col1, #T_f2eb0_row15_col0, #T_f2eb0_row15_col1, #T_f2eb0_row16_col0, #T_f2eb0_row16_col1, #T_f2eb0_row17_col0, #T_f2eb0_row17_col1, #T_f2eb0_row18_col0, #T_f2eb0_row18_col1, #T_f2eb0_row19_col0, #T_f2eb0_row19_col1 {\n",
       "  text-align: left;\n",
       "}\n",
       "</style>\n",
       "<table id=\"T_f2eb0_\" style='display:inline'>\n",
       "  <caption>Top EN description words:</caption>\n",
       "  <thead>\n",
       "    <tr>\n",
       "      <th class=\"blank level0\" >&nbsp;</th>\n",
       "      <th class=\"col_heading level0 col0\" >words</th>\n",
       "      <th class=\"col_heading level0 col1\" >count</th>\n",
       "    </tr>\n",
       "  </thead>\n",
       "  <tbody>\n",
       "    <tr>\n",
       "      <th id=\"T_f2eb0_level0_row0\" class=\"row_heading level0 row0\" >0</th>\n",
       "      <td id=\"T_f2eb0_row0_col0\" class=\"data row0 col0\" >excel</td>\n",
       "      <td id=\"T_f2eb0_row0_col1\" class=\"data row0 col1\" >1083</td>\n",
       "    </tr>\n",
       "    <tr>\n",
       "      <th id=\"T_f2eb0_level0_row1\" class=\"row_heading level0 row1\" >1</th>\n",
       "      <td id=\"T_f2eb0_row1_col0\" class=\"data row1 col0\" >sql</td>\n",
       "      <td id=\"T_f2eb0_row1_col1\" class=\"data row1 col1\" >781</td>\n",
       "    </tr>\n",
       "    <tr>\n",
       "      <th id=\"T_f2eb0_level0_row2\" class=\"row_heading level0 row2\" >2</th>\n",
       "      <td id=\"T_f2eb0_row2_col0\" class=\"data row2 col0\" >power</td>\n",
       "      <td id=\"T_f2eb0_row2_col1\" class=\"data row2 col1\" >551</td>\n",
       "    </tr>\n",
       "    <tr>\n",
       "      <th id=\"T_f2eb0_level0_row3\" class=\"row_heading level0 row3\" >3</th>\n",
       "      <td id=\"T_f2eb0_row3_col0\" class=\"data row3 col0\" >bpmn</td>\n",
       "      <td id=\"T_f2eb0_row3_col1\" class=\"data row3 col1\" >280</td>\n",
       "    </tr>\n",
       "    <tr>\n",
       "      <th id=\"T_f2eb0_level0_row4\" class=\"row_heading level0 row4\" >4</th>\n",
       "      <td id=\"T_f2eb0_row4_col0\" class=\"data row4 col0\" >google</td>\n",
       "      <td id=\"T_f2eb0_row4_col1\" class=\"data row4 col1\" >266</td>\n",
       "    </tr>\n",
       "    <tr>\n",
       "      <th id=\"T_f2eb0_level0_row5\" class=\"row_heading level0 row5\" >5</th>\n",
       "      <td id=\"T_f2eb0_row5_col0\" class=\"data row5 col0\" >python</td>\n",
       "      <td id=\"T_f2eb0_row5_col1\" class=\"data row5 col1\" >255</td>\n",
       "    </tr>\n",
       "    <tr>\n",
       "      <th id=\"T_f2eb0_level0_row6\" class=\"row_heading level0 row6\" >6</th>\n",
       "      <td id=\"T_f2eb0_row6_col0\" class=\"data row6 col0\" >office</td>\n",
       "      <td id=\"T_f2eb0_row6_col1\" class=\"data row6 col1\" >251</td>\n",
       "    </tr>\n",
       "    <tr>\n",
       "      <th id=\"T_f2eb0_level0_row7\" class=\"row_heading level0 row7\" >7</th>\n",
       "      <td id=\"T_f2eb0_row7_col0\" class=\"data row7 col0\" >uml</td>\n",
       "      <td id=\"T_f2eb0_row7_col1\" class=\"data row7 col1\" >202</td>\n",
       "    </tr>\n",
       "    <tr>\n",
       "      <th id=\"T_f2eb0_level0_row8\" class=\"row_heading level0 row8\" >8</th>\n",
       "      <td id=\"T_f2eb0_row8_col0\" class=\"data row8 col0\" >erp</td>\n",
       "      <td id=\"T_f2eb0_row8_col1\" class=\"data row8 col1\" >201</td>\n",
       "    </tr>\n",
       "    <tr>\n",
       "      <th id=\"T_f2eb0_level0_row9\" class=\"row_heading level0 row9\" >9</th>\n",
       "      <td id=\"T_f2eb0_row9_col0\" class=\"data row9 col0\" >crm</td>\n",
       "      <td id=\"T_f2eb0_row9_col1\" class=\"data row9 col1\" >194</td>\n",
       "    </tr>\n",
       "    <tr>\n",
       "      <th id=\"T_f2eb0_level0_row10\" class=\"row_heading level0 row10\" >10</th>\n",
       "      <td id=\"T_f2eb0_row10_col0\" class=\"data row10 col0\" >kpi</td>\n",
       "      <td id=\"T_f2eb0_row10_col1\" class=\"data row10 col1\" >158</td>\n",
       "    </tr>\n",
       "    <tr>\n",
       "      <th id=\"T_f2eb0_level0_row11\" class=\"row_heading level0 row11\" >11</th>\n",
       "      <td id=\"T_f2eb0_row11_col0\" class=\"data row11 col0\" >word</td>\n",
       "      <td id=\"T_f2eb0_row11_col1\" class=\"data row11 col1\" >158</td>\n",
       "    </tr>\n",
       "    <tr>\n",
       "      <th id=\"T_f2eb0_level0_row12\" class=\"row_heading level0 row12\" >12</th>\n",
       "      <td id=\"T_f2eb0_row12_col0\" class=\"data row12 col0\" >jira</td>\n",
       "      <td id=\"T_f2eb0_row12_col1\" class=\"data row12 col1\" >148</td>\n",
       "    </tr>\n",
       "    <tr>\n",
       "      <th id=\"T_f2eb0_level0_row13\" class=\"row_heading level0 row13\" >13</th>\n",
       "      <td id=\"T_f2eb0_row13_col0\" class=\"data row13 col0\" >api</td>\n",
       "      <td id=\"T_f2eb0_row13_col1\" class=\"data row13 col1\" >142</td>\n",
       "    </tr>\n",
       "    <tr>\n",
       "      <th id=\"T_f2eb0_level0_row14\" class=\"row_heading level0 row14\" >14</th>\n",
       "      <td id=\"T_f2eb0_row14_col0\" class=\"data row14 col0\" >point</td>\n",
       "      <td id=\"T_f2eb0_row14_col1\" class=\"data row14 col1\" >123</td>\n",
       "    </tr>\n",
       "    <tr>\n",
       "      <th id=\"T_f2eb0_level0_row15\" class=\"row_heading level0 row15\" >15</th>\n",
       "      <td id=\"T_f2eb0_row15_col0\" class=\"data row15 col0\" >confluence</td>\n",
       "      <td id=\"T_f2eb0_row15_col1\" class=\"data row15 col1\" >122</td>\n",
       "    </tr>\n",
       "    <tr>\n",
       "      <th id=\"T_f2eb0_level0_row16\" class=\"row_heading level0 row16\" >16</th>\n",
       "      <td id=\"T_f2eb0_row16_col0\" class=\"data row16 col0\" >query</td>\n",
       "      <td id=\"T_f2eb0_row16_col1\" class=\"data row16 col1\" >114</td>\n",
       "    </tr>\n",
       "    <tr>\n",
       "      <th id=\"T_f2eb0_level0_row17\" class=\"row_heading level0 row17\" >17</th>\n",
       "      <td id=\"T_f2eb0_row17_col0\" class=\"data row17 col0\" >rest</td>\n",
       "      <td id=\"T_f2eb0_row17_col1\" class=\"data row17 col1\" >113</td>\n",
       "    </tr>\n",
       "    <tr>\n",
       "      <th id=\"T_f2eb0_level0_row18\" class=\"row_heading level0 row18\" >18</th>\n",
       "      <td id=\"T_f2eb0_row18_col0\" class=\"data row18 col0\" >powerpoint</td>\n",
       "      <td id=\"T_f2eb0_row18_col1\" class=\"data row18 col1\" >112</td>\n",
       "    </tr>\n",
       "    <tr>\n",
       "      <th id=\"T_f2eb0_level0_row19\" class=\"row_heading level0 row19\" >19</th>\n",
       "      <td id=\"T_f2eb0_row19_col0\" class=\"data row19 col0\" >data</td>\n",
       "      <td id=\"T_f2eb0_row19_col1\" class=\"data row19 col1\" >109</td>\n",
       "    </tr>\n",
       "  </tbody>\n",
       "</table>\n",
       "          <style type=\"text/css\">\n",
       "#T_7f6e6_row0_col0, #T_7f6e6_row0_col1, #T_7f6e6_row1_col0, #T_7f6e6_row1_col1, #T_7f6e6_row2_col0, #T_7f6e6_row2_col1, #T_7f6e6_row3_col0, #T_7f6e6_row3_col1, #T_7f6e6_row4_col0, #T_7f6e6_row4_col1, #T_7f6e6_row5_col0, #T_7f6e6_row5_col1, #T_7f6e6_row6_col0, #T_7f6e6_row6_col1, #T_7f6e6_row7_col0, #T_7f6e6_row7_col1, #T_7f6e6_row8_col0, #T_7f6e6_row8_col1, #T_7f6e6_row9_col0, #T_7f6e6_row9_col1, #T_7f6e6_row10_col0, #T_7f6e6_row10_col1, #T_7f6e6_row11_col0, #T_7f6e6_row11_col1, #T_7f6e6_row12_col0, #T_7f6e6_row12_col1, #T_7f6e6_row13_col0, #T_7f6e6_row13_col1, #T_7f6e6_row14_col0, #T_7f6e6_row14_col1, #T_7f6e6_row15_col0, #T_7f6e6_row15_col1, #T_7f6e6_row16_col0, #T_7f6e6_row16_col1, #T_7f6e6_row17_col0, #T_7f6e6_row17_col1, #T_7f6e6_row18_col0, #T_7f6e6_row18_col1, #T_7f6e6_row19_col0, #T_7f6e6_row19_col1 {\n",
       "  text-align: left;\n",
       "}\n",
       "</style>\n",
       "<table id=\"T_7f6e6_\" style='display:inline'>\n",
       "  <caption>Top RU description words:</caption>\n",
       "  <thead>\n",
       "    <tr>\n",
       "      <th class=\"blank level0\" >&nbsp;</th>\n",
       "      <th class=\"col_heading level0 col0\" >words</th>\n",
       "      <th class=\"col_heading level0 col1\" >count</th>\n",
       "    </tr>\n",
       "  </thead>\n",
       "  <tbody>\n",
       "    <tr>\n",
       "      <th id=\"T_7f6e6_level0_row0\" class=\"row_heading level0 row0\" >0</th>\n",
       "      <td id=\"T_7f6e6_row0_col0\" class=\"data row0 col0\" >работы</td>\n",
       "      <td id=\"T_7f6e6_row0_col1\" class=\"data row0 col1\" >5119</td>\n",
       "    </tr>\n",
       "    <tr>\n",
       "      <th id=\"T_7f6e6_level0_row1\" class=\"row_heading level0 row1\" >1</th>\n",
       "      <td id=\"T_7f6e6_row1_col0\" class=\"data row1 col0\" >опыт</td>\n",
       "      <td id=\"T_7f6e6_row1_col1\" class=\"data row1 col1\" >3993</td>\n",
       "    </tr>\n",
       "    <tr>\n",
       "      <th id=\"T_7f6e6_level0_row2\" class=\"row_heading level0 row2\" >2</th>\n",
       "      <td id=\"T_7f6e6_row2_col0\" class=\"data row2 col0\" >данных</td>\n",
       "      <td id=\"T_7f6e6_row2_col1\" class=\"data row2 col1\" >2595</td>\n",
       "    </tr>\n",
       "    <tr>\n",
       "      <th id=\"T_7f6e6_level0_row3\" class=\"row_heading level0 row3\" >3</th>\n",
       "      <td id=\"T_7f6e6_row3_col0\" class=\"data row3 col0\" >компании</td>\n",
       "      <td id=\"T_7f6e6_row3_col1\" class=\"data row3 col1\" >2489</td>\n",
       "    </tr>\n",
       "    <tr>\n",
       "      <th id=\"T_7f6e6_level0_row4\" class=\"row_heading level0 row4\" >4</th>\n",
       "      <td id=\"T_7f6e6_row4_col0\" class=\"data row4 col0\" >бизнес</td>\n",
       "      <td id=\"T_7f6e6_row4_col1\" class=\"data row4 col1\" >2446</td>\n",
       "    </tr>\n",
       "    <tr>\n",
       "      <th id=\"T_7f6e6_level0_row5\" class=\"row_heading level0 row5\" >5</th>\n",
       "      <td id=\"T_7f6e6_row5_col0\" class=\"data row5 col0\" >анализ</td>\n",
       "      <td id=\"T_7f6e6_row5_col1\" class=\"data row5 col1\" >2195</td>\n",
       "    </tr>\n",
       "    <tr>\n",
       "      <th id=\"T_7f6e6_level0_row6\" class=\"row_heading level0 row6\" >6</th>\n",
       "      <td id=\"T_7f6e6_row6_col0\" class=\"data row6 col0\" >знание</td>\n",
       "      <td id=\"T_7f6e6_row6_col1\" class=\"data row6 col1\" >2096</td>\n",
       "    </tr>\n",
       "    <tr>\n",
       "      <th id=\"T_7f6e6_level0_row7\" class=\"row_heading level0 row7\" >7</th>\n",
       "      <td id=\"T_7f6e6_row7_col0\" class=\"data row7 col0\" >процессов</td>\n",
       "      <td id=\"T_7f6e6_row7_col1\" class=\"data row7 col1\" >1659</td>\n",
       "    </tr>\n",
       "    <tr>\n",
       "      <th id=\"T_7f6e6_level0_row8\" class=\"row_heading level0 row8\" >8</th>\n",
       "      <td id=\"T_7f6e6_row8_col0\" class=\"data row8 col0\" >работа</td>\n",
       "      <td id=\"T_7f6e6_row8_col1\" class=\"data row8 col1\" >1623</td>\n",
       "    </tr>\n",
       "    <tr>\n",
       "      <th id=\"T_7f6e6_level0_row9\" class=\"row_heading level0 row9\" >9</th>\n",
       "      <td id=\"T_7f6e6_row9_col0\" class=\"data row9 col0\" >требования</td>\n",
       "      <td id=\"T_7f6e6_row9_col1\" class=\"data row9 col1\" >1474</td>\n",
       "    </tr>\n",
       "    <tr>\n",
       "      <th id=\"T_7f6e6_level0_row10\" class=\"row_heading level0 row10\" >10</th>\n",
       "      <td id=\"T_7f6e6_row10_col0\" class=\"data row10 col0\" >умение</td>\n",
       "      <td id=\"T_7f6e6_row10_col1\" class=\"data row10 col1\" >1472</td>\n",
       "    </tr>\n",
       "    <tr>\n",
       "      <th id=\"T_7f6e6_level0_row11\" class=\"row_heading level0 row11\" >11</th>\n",
       "      <td id=\"T_7f6e6_row11_col0\" class=\"data row11 col0\" >аналитика</td>\n",
       "      <td id=\"T_7f6e6_row11_col1\" class=\"data row11 col1\" >1273</td>\n",
       "    </tr>\n",
       "    <tr>\n",
       "      <th id=\"T_7f6e6_level0_row12\" class=\"row_heading level0 row12\" >12</th>\n",
       "      <td id=\"T_7f6e6_row12_col0\" class=\"data row12 col0\" >условия</td>\n",
       "      <td id=\"T_7f6e6_row12_col1\" class=\"data row12 col1\" >1260</td>\n",
       "    </tr>\n",
       "    <tr>\n",
       "      <th id=\"T_7f6e6_level0_row13\" class=\"row_heading level0 row13\" >13</th>\n",
       "      <td id=\"T_7f6e6_row13_col0\" class=\"data row13 col0\" >работать</td>\n",
       "      <td id=\"T_7f6e6_row13_col1\" class=\"data row13 col1\" >1184</td>\n",
       "    </tr>\n",
       "    <tr>\n",
       "      <th id=\"T_7f6e6_level0_row14\" class=\"row_heading level0 row14\" >14</th>\n",
       "      <td id=\"T_7f6e6_row14_col0\" class=\"data row14 col0\" >обязанности</td>\n",
       "      <td id=\"T_7f6e6_row14_col1\" class=\"data row14 col1\" >1077</td>\n",
       "    </tr>\n",
       "    <tr>\n",
       "      <th id=\"T_7f6e6_level0_row15\" class=\"row_heading level0 row15\" >15</th>\n",
       "      <td id=\"T_7f6e6_row15_col0\" class=\"data row15 col0\" >график</td>\n",
       "      <td id=\"T_7f6e6_row15_col1\" class=\"data row15 col1\" >1072</td>\n",
       "    </tr>\n",
       "    <tr>\n",
       "      <th id=\"T_7f6e6_level0_row16\" class=\"row_heading level0 row16\" >16</th>\n",
       "      <td id=\"T_7f6e6_row16_col0\" class=\"data row16 col0\" >возможность</td>\n",
       "      <td id=\"T_7f6e6_row16_col1\" class=\"data row16 col1\" >1052</td>\n",
       "    </tr>\n",
       "    <tr>\n",
       "      <th id=\"T_7f6e6_level0_row17\" class=\"row_heading level0 row17\" >17</th>\n",
       "      <td id=\"T_7f6e6_row17_col0\" class=\"data row17 col0\" >образование</td>\n",
       "      <td id=\"T_7f6e6_row17_col1\" class=\"data row17 col1\" >1003</td>\n",
       "    </tr>\n",
       "    <tr>\n",
       "      <th id=\"T_7f6e6_level0_row18\" class=\"row_heading level0 row18\" >18</th>\n",
       "      <td id=\"T_7f6e6_row18_col0\" class=\"data row18 col0\" >участие</td>\n",
       "      <td id=\"T_7f6e6_row18_col1\" class=\"data row18 col1\" >1000</td>\n",
       "    </tr>\n",
       "    <tr>\n",
       "      <th id=\"T_7f6e6_level0_row19\" class=\"row_heading level0 row19\" >19</th>\n",
       "      <td id=\"T_7f6e6_row19_col0\" class=\"data row19 col0\" >требований</td>\n",
       "      <td id=\"T_7f6e6_row19_col1\" class=\"data row19 col1\" >987</td>\n",
       "    </tr>\n",
       "  </tbody>\n",
       "</table>\n",
       "          "
      ],
      "text/plain": [
       "<IPython.core.display.HTML object>"
      ]
     },
     "metadata": {},
     "output_type": "display_data"
    }
   ],
   "source": [
    "count = 20\n",
    "\n",
    "sk = top_ds_skills.head(count)\n",
    "en = top_ds_en_words.head(count)\n",
    "ru = top_ds_ru_words.head(count)\n",
    "\n",
    "display_side_by_side([pd.DataFrame({'skills':sk.index, 'count':sk.values}),\n",
    "                      pd.DataFrame({'words':en.index, 'count':en.values}),\n",
    "                      pd.DataFrame({'words':ru.index,'count':ru.values})],\n",
    "                     ['Top skills:', 'Top EN description words:', 'Top RU description words:'], 10) "
   ]
  },
  {
   "cell_type": "markdown",
   "id": "dda0ad00",
   "metadata": {
    "papermill": {
     "duration": 0.017997,
     "end_time": "2022-11-22T10:51:04.865786",
     "exception": false,
     "start_time": "2022-11-22T10:51:04.847789",
     "status": "completed"
    },
    "tags": []
   },
   "source": [
    "По таблицам можно увидеть, самые востребованные навыки по всем объявлениям. Так же по повторяющимся английским словам можно убедиться, что такие навыки как `sql`, `excel`, `powerpoint`, `python`, `uml` и другие дублируют самые часто встречающиеся ключевые умения. Таблица повторяющихся русских слов дает только общее понимание, и служит скорее для иллюстрации какой опыт и soft skills востребованы на рынке труда."
   ]
  },
  {
   "cell_type": "markdown",
   "id": "c8d82645",
   "metadata": {
    "papermill": {
     "duration": 0.018351,
     "end_time": "2022-11-22T10:51:04.902369",
     "exception": false,
     "start_time": "2022-11-22T10:51:04.884018",
     "status": "completed"
    },
    "tags": []
   },
   "source": [
    "<a id=\"data_skills_to_lvl\"></a>\n",
    "### Сравнение ключевых навыков между уровнями вакансий\n",
    "Сравниваем ключевые навыки и самые часто повторяющиеся англ слова в вакансиях в зависимости от уровня работника\n",
    "- junior - \"Нет опыта\"\n",
    "- middle - \"От 1 года до 3 лет\"\n",
    "- senior - \"От 3 до 6 лет\"\n",
    "- lead - \"Более 6 лет\"\n",
    "\n",
    "**Очень долго обрабатывает, лучше запустить 1 раз**"
   ]
  },
  {
   "cell_type": "code",
   "execution_count": 26,
   "id": "82ce0149",
   "metadata": {
    "execution": {
     "iopub.execute_input": "2022-11-22T10:51:04.941371Z",
     "iopub.status.busy": "2022-11-22T10:51:04.940888Z",
     "iopub.status.idle": "2022-11-22T10:53:00.998622Z",
     "shell.execute_reply": "2022-11-22T10:53:00.996995Z"
    },
    "papermill": {
     "duration": 116.080122,
     "end_time": "2022-11-22T10:53:01.001068",
     "exception": false,
     "start_time": "2022-11-22T10:51:04.920946",
     "status": "completed"
    },
    "tags": []
   },
   "outputs": [],
   "source": [
    "df_jun = df.query('experience == \"Нет опыта\"')\n",
    "df_mid = df.query('experience == \"От 1 года до 3 лет\"')\n",
    "df_sen = df.query('experience == \"От 3 до 6 лет\"')\n",
    "df_lead = df.query('experience == \"Более 6 лет\"')\n",
    "\n",
    "count = 10\n",
    "\n",
    "jun_skills = top_skills(df_jun).head(count)\n",
    "mid_skills = top_skills(df_mid).head(count)\n",
    "sen_skills = top_skills(df_sen).head(count)\n",
    "lead_skills = top_skills(df_lead).head(count)\n",
    "\n",
    "jun_en_words = top_description_words(df_jun).head(count)\n",
    "mid_en_words = top_description_words(df_mid).head(count)\n",
    "sen_en_words = top_description_words(df_sen).head(count)\n",
    "lead_en_words = top_description_words(df_lead).head(count)\n",
    "\n",
    "jun_ru_words = top_description_words(df_jun,'ru',3).head(count)\n",
    "mid_ru_words = top_description_words(df_mid,'ru',3).head(count)\n",
    "sen_ru_words = top_description_words(df_sen,'ru',3).head(count)\n",
    "lead_ru_words = top_description_words(df_lead,'ru',3).head(count)"
   ]
  },
  {
   "cell_type": "code",
   "execution_count": 27,
   "id": "22acfaae",
   "metadata": {
    "execution": {
     "iopub.execute_input": "2022-11-22T10:53:01.041221Z",
     "iopub.status.busy": "2022-11-22T10:53:01.039864Z",
     "iopub.status.idle": "2022-11-22T10:53:01.108636Z",
     "shell.execute_reply": "2022-11-22T10:53:01.107649Z"
    },
    "papermill": {
     "duration": 0.090517,
     "end_time": "2022-11-22T10:53:01.110442",
     "exception": false,
     "start_time": "2022-11-22T10:53:01.019925",
     "status": "completed"
    },
    "tags": []
   },
   "outputs": [
    {
     "data": {
      "text/html": [
       "<style type=\"text/css\">\n",
       "#T_4e815_row0_col0, #T_4e815_row0_col1, #T_4e815_row1_col0, #T_4e815_row1_col1, #T_4e815_row2_col0, #T_4e815_row2_col1, #T_4e815_row3_col0, #T_4e815_row3_col1, #T_4e815_row4_col0, #T_4e815_row4_col1, #T_4e815_row5_col0, #T_4e815_row5_col1, #T_4e815_row6_col0, #T_4e815_row6_col1, #T_4e815_row7_col0, #T_4e815_row7_col1, #T_4e815_row8_col0, #T_4e815_row8_col1, #T_4e815_row9_col0, #T_4e815_row9_col1 {\n",
       "  text-align: left;\n",
       "}\n",
       "</style>\n",
       "<table id=\"T_4e815_\" style='display:inline'>\n",
       "  <caption>Top skills for junior</caption>\n",
       "  <thead>\n",
       "    <tr>\n",
       "      <th class=\"blank level0\" >&nbsp;</th>\n",
       "      <th class=\"col_heading level0 col0\" >skills</th>\n",
       "      <th class=\"col_heading level0 col1\" >count</th>\n",
       "    </tr>\n",
       "  </thead>\n",
       "  <tbody>\n",
       "    <tr>\n",
       "      <th id=\"T_4e815_level0_row0\" class=\"row_heading level0 row0\" >0</th>\n",
       "      <td id=\"T_4e815_row0_col0\" class=\"data row0 col0\" >аналитическое мышление</td>\n",
       "      <td id=\"T_4e815_row0_col1\" class=\"data row0 col1\" >69</td>\n",
       "    </tr>\n",
       "    <tr>\n",
       "      <th id=\"T_4e815_level0_row1\" class=\"row_heading level0 row1\" >1</th>\n",
       "      <td id=\"T_4e815_row1_col0\" class=\"data row1 col0\" >работа с большим объемом информации</td>\n",
       "      <td id=\"T_4e815_row1_col1\" class=\"data row1 col1\" >61</td>\n",
       "    </tr>\n",
       "    <tr>\n",
       "      <th id=\"T_4e815_level0_row2\" class=\"row_heading level0 row2\" >2</th>\n",
       "      <td id=\"T_4e815_row2_col0\" class=\"data row2 col0\" >ms powerpoint</td>\n",
       "      <td id=\"T_4e815_row2_col1\" class=\"data row2 col1\" >58</td>\n",
       "    </tr>\n",
       "    <tr>\n",
       "      <th id=\"T_4e815_level0_row3\" class=\"row_heading level0 row3\" >3</th>\n",
       "      <td id=\"T_4e815_row3_col0\" class=\"data row3 col0\" >работа в команде</td>\n",
       "      <td id=\"T_4e815_row3_col1\" class=\"data row3 col1\" >44</td>\n",
       "    </tr>\n",
       "    <tr>\n",
       "      <th id=\"T_4e815_level0_row4\" class=\"row_heading level0 row4\" >4</th>\n",
       "      <td id=\"T_4e815_row4_col0\" class=\"data row4 col0\" >анализ данных</td>\n",
       "      <td id=\"T_4e815_row4_col1\" class=\"data row4 col1\" >37</td>\n",
       "    </tr>\n",
       "    <tr>\n",
       "      <th id=\"T_4e815_level0_row5\" class=\"row_heading level0 row5\" >5</th>\n",
       "      <td id=\"T_4e815_row5_col0\" class=\"data row5 col0\" >sql</td>\n",
       "      <td id=\"T_4e815_row5_col1\" class=\"data row5 col1\" >32</td>\n",
       "    </tr>\n",
       "    <tr>\n",
       "      <th id=\"T_4e815_level0_row6\" class=\"row_heading level0 row6\" >6</th>\n",
       "      <td id=\"T_4e815_row6_col0\" class=\"data row6 col0\" >ms excel</td>\n",
       "      <td id=\"T_4e815_row6_col1\" class=\"data row6 col1\" >30</td>\n",
       "    </tr>\n",
       "    <tr>\n",
       "      <th id=\"T_4e815_level0_row7\" class=\"row_heading level0 row7\" >7</th>\n",
       "      <td id=\"T_4e815_row7_col0\" class=\"data row7 col0\" >поиск информации в интернет</td>\n",
       "      <td id=\"T_4e815_row7_col1\" class=\"data row7 col1\" >19</td>\n",
       "    </tr>\n",
       "    <tr>\n",
       "      <th id=\"T_4e815_level0_row8\" class=\"row_heading level0 row8\" >8</th>\n",
       "      <td id=\"T_4e815_row8_col0\" class=\"data row8 col0\" >пользователь пк</td>\n",
       "      <td id=\"T_4e815_row8_col1\" class=\"data row8 col1\" >19</td>\n",
       "    </tr>\n",
       "    <tr>\n",
       "      <th id=\"T_4e815_level0_row9\" class=\"row_heading level0 row9\" >9</th>\n",
       "      <td id=\"T_4e815_row9_col0\" class=\"data row9 col0\" >грамотная речь</td>\n",
       "      <td id=\"T_4e815_row9_col1\" class=\"data row9 col1\" >18</td>\n",
       "    </tr>\n",
       "  </tbody>\n",
       "</table>\n",
       "          <style type=\"text/css\">\n",
       "#T_53f77_row0_col0, #T_53f77_row0_col1, #T_53f77_row1_col0, #T_53f77_row1_col1, #T_53f77_row2_col0, #T_53f77_row2_col1, #T_53f77_row3_col0, #T_53f77_row3_col1, #T_53f77_row4_col0, #T_53f77_row4_col1, #T_53f77_row5_col0, #T_53f77_row5_col1, #T_53f77_row6_col0, #T_53f77_row6_col1, #T_53f77_row7_col0, #T_53f77_row7_col1, #T_53f77_row8_col0, #T_53f77_row8_col1, #T_53f77_row9_col0, #T_53f77_row9_col1 {\n",
       "  text-align: left;\n",
       "}\n",
       "</style>\n",
       "<table id=\"T_53f77_\" style='display:inline'>\n",
       "  <caption>Top en words for junior</caption>\n",
       "  <thead>\n",
       "    <tr>\n",
       "      <th class=\"blank level0\" >&nbsp;</th>\n",
       "      <th class=\"col_heading level0 col0\" >words</th>\n",
       "      <th class=\"col_heading level0 col1\" >count</th>\n",
       "    </tr>\n",
       "  </thead>\n",
       "  <tbody>\n",
       "    <tr>\n",
       "      <th id=\"T_53f77_level0_row0\" class=\"row_heading level0 row0\" >0</th>\n",
       "      <td id=\"T_53f77_row0_col0\" class=\"data row0 col0\" >excel</td>\n",
       "      <td id=\"T_53f77_row0_col1\" class=\"data row0 col1\" >129</td>\n",
       "    </tr>\n",
       "    <tr>\n",
       "      <th id=\"T_53f77_level0_row1\" class=\"row_heading level0 row1\" >1</th>\n",
       "      <td id=\"T_53f77_row1_col0\" class=\"data row1 col0\" >power</td>\n",
       "      <td id=\"T_53f77_row1_col1\" class=\"data row1 col1\" >62</td>\n",
       "    </tr>\n",
       "    <tr>\n",
       "      <th id=\"T_53f77_level0_row2\" class=\"row_heading level0 row2\" >2</th>\n",
       "      <td id=\"T_53f77_row2_col0\" class=\"data row2 col0\" >sql</td>\n",
       "      <td id=\"T_53f77_row2_col1\" class=\"data row2 col1\" >54</td>\n",
       "    </tr>\n",
       "    <tr>\n",
       "      <th id=\"T_53f77_level0_row3\" class=\"row_heading level0 row3\" >3</th>\n",
       "      <td id=\"T_53f77_row3_col0\" class=\"data row3 col0\" >google</td>\n",
       "      <td id=\"T_53f77_row3_col1\" class=\"data row3 col1\" >37</td>\n",
       "    </tr>\n",
       "    <tr>\n",
       "      <th id=\"T_53f77_level0_row4\" class=\"row_heading level0 row4\" >4</th>\n",
       "      <td id=\"T_53f77_row4_col0\" class=\"data row4 col0\" >office</td>\n",
       "      <td id=\"T_53f77_row4_col1\" class=\"data row4 col1\" >31</td>\n",
       "    </tr>\n",
       "    <tr>\n",
       "      <th id=\"T_53f77_level0_row5\" class=\"row_heading level0 row5\" >5</th>\n",
       "      <td id=\"T_53f77_row5_col0\" class=\"data row5 col0\" >ozon</td>\n",
       "      <td id=\"T_53f77_row5_col1\" class=\"data row5 col1\" >18</td>\n",
       "    </tr>\n",
       "    <tr>\n",
       "      <th id=\"T_53f77_level0_row6\" class=\"row_heading level0 row6\" >6</th>\n",
       "      <td id=\"T_53f77_row6_col0\" class=\"data row6 col0\" >word</td>\n",
       "      <td id=\"T_53f77_row6_col1\" class=\"data row6 col1\" >17</td>\n",
       "    </tr>\n",
       "    <tr>\n",
       "      <th id=\"T_53f77_level0_row7\" class=\"row_heading level0 row7\" >7</th>\n",
       "      <td id=\"T_53f77_row7_col0\" class=\"data row7 col0\" >digital</td>\n",
       "      <td id=\"T_53f77_row7_col1\" class=\"data row7 col1\" >16</td>\n",
       "    </tr>\n",
       "    <tr>\n",
       "      <th id=\"T_53f77_level0_row8\" class=\"row_heading level0 row8\" >8</th>\n",
       "      <td id=\"T_53f77_row8_col0\" class=\"data row8 col0\" >erp</td>\n",
       "      <td id=\"T_53f77_row8_col1\" class=\"data row8 col1\" >14</td>\n",
       "    </tr>\n",
       "    <tr>\n",
       "      <th id=\"T_53f77_level0_row9\" class=\"row_heading level0 row9\" >9</th>\n",
       "      <td id=\"T_53f77_row9_col0\" class=\"data row9 col0\" >commerce</td>\n",
       "      <td id=\"T_53f77_row9_col1\" class=\"data row9 col1\" >14</td>\n",
       "    </tr>\n",
       "  </tbody>\n",
       "</table>\n",
       "          <style type=\"text/css\">\n",
       "#T_97749_row0_col0, #T_97749_row0_col1, #T_97749_row1_col0, #T_97749_row1_col1, #T_97749_row2_col0, #T_97749_row2_col1, #T_97749_row3_col0, #T_97749_row3_col1, #T_97749_row4_col0, #T_97749_row4_col1, #T_97749_row5_col0, #T_97749_row5_col1, #T_97749_row6_col0, #T_97749_row6_col1, #T_97749_row7_col0, #T_97749_row7_col1, #T_97749_row8_col0, #T_97749_row8_col1, #T_97749_row9_col0, #T_97749_row9_col1 {\n",
       "  text-align: left;\n",
       "}\n",
       "</style>\n",
       "<table id=\"T_97749_\" style='display:inline'>\n",
       "  <caption>Top ru words for junior</caption>\n",
       "  <thead>\n",
       "    <tr>\n",
       "      <th class=\"blank level0\" >&nbsp;</th>\n",
       "      <th class=\"col_heading level0 col0\" >words</th>\n",
       "      <th class=\"col_heading level0 col1\" >count</th>\n",
       "    </tr>\n",
       "  </thead>\n",
       "  <tbody>\n",
       "    <tr>\n",
       "      <th id=\"T_97749_level0_row0\" class=\"row_heading level0 row0\" >0</th>\n",
       "      <td id=\"T_97749_row0_col0\" class=\"data row0 col0\" >работы</td>\n",
       "      <td id=\"T_97749_row0_col1\" class=\"data row0 col1\" >422</td>\n",
       "    </tr>\n",
       "    <tr>\n",
       "      <th id=\"T_97749_level0_row1\" class=\"row_heading level0 row1\" >1</th>\n",
       "      <td id=\"T_97749_row1_col0\" class=\"data row1 col0\" >компании</td>\n",
       "      <td id=\"T_97749_row1_col1\" class=\"data row1 col1\" >248</td>\n",
       "    </tr>\n",
       "    <tr>\n",
       "      <th id=\"T_97749_level0_row2\" class=\"row_heading level0 row2\" >2</th>\n",
       "      <td id=\"T_97749_row2_col0\" class=\"data row2 col0\" >данных</td>\n",
       "      <td id=\"T_97749_row2_col1\" class=\"data row2 col1\" >214</td>\n",
       "    </tr>\n",
       "    <tr>\n",
       "      <th id=\"T_97749_level0_row3\" class=\"row_heading level0 row3\" >3</th>\n",
       "      <td id=\"T_97749_row3_col0\" class=\"data row3 col0\" >опыт</td>\n",
       "      <td id=\"T_97749_row3_col1\" class=\"data row3 col1\" >173</td>\n",
       "    </tr>\n",
       "    <tr>\n",
       "      <th id=\"T_97749_level0_row4\" class=\"row_heading level0 row4\" >4</th>\n",
       "      <td id=\"T_97749_row4_col0\" class=\"data row4 col0\" >анализ</td>\n",
       "      <td id=\"T_97749_row4_col1\" class=\"data row4 col1\" >162</td>\n",
       "    </tr>\n",
       "    <tr>\n",
       "      <th id=\"T_97749_level0_row5\" class=\"row_heading level0 row5\" >5</th>\n",
       "      <td id=\"T_97749_row5_col0\" class=\"data row5 col0\" >знание</td>\n",
       "      <td id=\"T_97749_row5_col1\" class=\"data row5 col1\" >162</td>\n",
       "    </tr>\n",
       "    <tr>\n",
       "      <th id=\"T_97749_level0_row6\" class=\"row_heading level0 row6\" >6</th>\n",
       "      <td id=\"T_97749_row6_col0\" class=\"data row6 col0\" >работа</td>\n",
       "      <td id=\"T_97749_row6_col1\" class=\"data row6 col1\" >161</td>\n",
       "    </tr>\n",
       "    <tr>\n",
       "      <th id=\"T_97749_level0_row7\" class=\"row_heading level0 row7\" >7</th>\n",
       "      <td id=\"T_97749_row7_col0\" class=\"data row7 col0\" >бизнес</td>\n",
       "      <td id=\"T_97749_row7_col1\" class=\"data row7 col1\" >158</td>\n",
       "    </tr>\n",
       "    <tr>\n",
       "      <th id=\"T_97749_level0_row8\" class=\"row_heading level0 row8\" >8</th>\n",
       "      <td id=\"T_97749_row8_col0\" class=\"data row8 col0\" >работать</td>\n",
       "      <td id=\"T_97749_row8_col1\" class=\"data row8 col1\" >155</td>\n",
       "    </tr>\n",
       "    <tr>\n",
       "      <th id=\"T_97749_level0_row9\" class=\"row_heading level0 row9\" >9</th>\n",
       "      <td id=\"T_97749_row9_col0\" class=\"data row9 col0\" >умение</td>\n",
       "      <td id=\"T_97749_row9_col1\" class=\"data row9 col1\" >141</td>\n",
       "    </tr>\n",
       "  </tbody>\n",
       "</table>\n",
       "          "
      ],
      "text/plain": [
       "<IPython.core.display.HTML object>"
      ]
     },
     "metadata": {},
     "output_type": "display_data"
    },
    {
     "data": {
      "text/html": [
       "<style type=\"text/css\">\n",
       "#T_9183b_row0_col0, #T_9183b_row0_col1, #T_9183b_row1_col0, #T_9183b_row1_col1, #T_9183b_row2_col0, #T_9183b_row2_col1, #T_9183b_row3_col0, #T_9183b_row3_col1, #T_9183b_row4_col0, #T_9183b_row4_col1, #T_9183b_row5_col0, #T_9183b_row5_col1, #T_9183b_row6_col0, #T_9183b_row6_col1, #T_9183b_row7_col0, #T_9183b_row7_col1, #T_9183b_row8_col0, #T_9183b_row8_col1, #T_9183b_row9_col0, #T_9183b_row9_col1 {\n",
       "  text-align: left;\n",
       "}\n",
       "</style>\n",
       "<table id=\"T_9183b_\" style='display:inline'>\n",
       "  <caption>Top skills for middle</caption>\n",
       "  <thead>\n",
       "    <tr>\n",
       "      <th class=\"blank level0\" >&nbsp;</th>\n",
       "      <th class=\"col_heading level0 col0\" >skills</th>\n",
       "      <th class=\"col_heading level0 col1\" >count</th>\n",
       "    </tr>\n",
       "  </thead>\n",
       "  <tbody>\n",
       "    <tr>\n",
       "      <th id=\"T_9183b_level0_row0\" class=\"row_heading level0 row0\" >0</th>\n",
       "      <td id=\"T_9183b_row0_col0\" class=\"data row0 col0\" >sql</td>\n",
       "      <td id=\"T_9183b_row0_col1\" class=\"data row0 col1\" >341</td>\n",
       "    </tr>\n",
       "    <tr>\n",
       "      <th id=\"T_9183b_level0_row1\" class=\"row_heading level0 row1\" >1</th>\n",
       "      <td id=\"T_9183b_row1_col0\" class=\"data row1 col0\" >аналитическое мышление</td>\n",
       "      <td id=\"T_9183b_row1_col1\" class=\"data row1 col1\" >330</td>\n",
       "    </tr>\n",
       "    <tr>\n",
       "      <th id=\"T_9183b_level0_row2\" class=\"row_heading level0 row2\" >2</th>\n",
       "      <td id=\"T_9183b_row2_col0\" class=\"data row2 col0\" >анализ данных</td>\n",
       "      <td id=\"T_9183b_row2_col1\" class=\"data row2 col1\" >244</td>\n",
       "    </tr>\n",
       "    <tr>\n",
       "      <th id=\"T_9183b_level0_row3\" class=\"row_heading level0 row3\" >3</th>\n",
       "      <td id=\"T_9183b_row3_col0\" class=\"data row3 col0\" >ms powerpoint</td>\n",
       "      <td id=\"T_9183b_row3_col1\" class=\"data row3 col1\" >243</td>\n",
       "    </tr>\n",
       "    <tr>\n",
       "      <th id=\"T_9183b_level0_row4\" class=\"row_heading level0 row4\" >4</th>\n",
       "      <td id=\"T_9183b_row4_col0\" class=\"data row4 col0\" >работа с большим объемом информации</td>\n",
       "      <td id=\"T_9183b_row4_col1\" class=\"data row4 col1\" >236</td>\n",
       "    </tr>\n",
       "    <tr>\n",
       "      <th id=\"T_9183b_level0_row5\" class=\"row_heading level0 row5\" >5</th>\n",
       "      <td id=\"T_9183b_row5_col0\" class=\"data row5 col0\" >бизнес-анализ</td>\n",
       "      <td id=\"T_9183b_row5_col1\" class=\"data row5 col1\" >151</td>\n",
       "    </tr>\n",
       "    <tr>\n",
       "      <th id=\"T_9183b_level0_row6\" class=\"row_heading level0 row6\" >6</th>\n",
       "      <td id=\"T_9183b_row6_col0\" class=\"data row6 col0\" >ms excel</td>\n",
       "      <td id=\"T_9183b_row6_col1\" class=\"data row6 col1\" >145</td>\n",
       "    </tr>\n",
       "    <tr>\n",
       "      <th id=\"T_9183b_level0_row7\" class=\"row_heading level0 row7\" >7</th>\n",
       "      <td id=\"T_9183b_row7_col0\" class=\"data row7 col0\" >bpmn</td>\n",
       "      <td id=\"T_9183b_row7_col1\" class=\"data row7 col1\" >124</td>\n",
       "    </tr>\n",
       "    <tr>\n",
       "      <th id=\"T_9183b_level0_row8\" class=\"row_heading level0 row8\" >8</th>\n",
       "      <td id=\"T_9183b_row8_col0\" class=\"data row8 col0\" >python</td>\n",
       "      <td id=\"T_9183b_row8_col1\" class=\"data row8 col1\" >111</td>\n",
       "    </tr>\n",
       "    <tr>\n",
       "      <th id=\"T_9183b_level0_row9\" class=\"row_heading level0 row9\" >9</th>\n",
       "      <td id=\"T_9183b_row9_col0\" class=\"data row9 col0\" >разработка технических заданий</td>\n",
       "      <td id=\"T_9183b_row9_col1\" class=\"data row9 col1\" >99</td>\n",
       "    </tr>\n",
       "  </tbody>\n",
       "</table>\n",
       "          <style type=\"text/css\">\n",
       "#T_127f6_row0_col0, #T_127f6_row0_col1, #T_127f6_row1_col0, #T_127f6_row1_col1, #T_127f6_row2_col0, #T_127f6_row2_col1, #T_127f6_row3_col0, #T_127f6_row3_col1, #T_127f6_row4_col0, #T_127f6_row4_col1, #T_127f6_row5_col0, #T_127f6_row5_col1, #T_127f6_row6_col0, #T_127f6_row6_col1, #T_127f6_row7_col0, #T_127f6_row7_col1, #T_127f6_row8_col0, #T_127f6_row8_col1, #T_127f6_row9_col0, #T_127f6_row9_col1 {\n",
       "  text-align: left;\n",
       "}\n",
       "</style>\n",
       "<table id=\"T_127f6_\" style='display:inline'>\n",
       "  <caption>Top en words for middle</caption>\n",
       "  <thead>\n",
       "    <tr>\n",
       "      <th class=\"blank level0\" >&nbsp;</th>\n",
       "      <th class=\"col_heading level0 col0\" >words</th>\n",
       "      <th class=\"col_heading level0 col1\" >count</th>\n",
       "    </tr>\n",
       "  </thead>\n",
       "  <tbody>\n",
       "    <tr>\n",
       "      <th id=\"T_127f6_level0_row0\" class=\"row_heading level0 row0\" >0</th>\n",
       "      <td id=\"T_127f6_row0_col0\" class=\"data row0 col0\" >excel</td>\n",
       "      <td id=\"T_127f6_row0_col1\" class=\"data row0 col1\" >749</td>\n",
       "    </tr>\n",
       "    <tr>\n",
       "      <th id=\"T_127f6_level0_row1\" class=\"row_heading level0 row1\" >1</th>\n",
       "      <td id=\"T_127f6_row1_col0\" class=\"data row1 col0\" >sql</td>\n",
       "      <td id=\"T_127f6_row1_col1\" class=\"data row1 col1\" >512</td>\n",
       "    </tr>\n",
       "    <tr>\n",
       "      <th id=\"T_127f6_level0_row2\" class=\"row_heading level0 row2\" >2</th>\n",
       "      <td id=\"T_127f6_row2_col0\" class=\"data row2 col0\" >power</td>\n",
       "      <td id=\"T_127f6_row2_col1\" class=\"data row2 col1\" >379</td>\n",
       "    </tr>\n",
       "    <tr>\n",
       "      <th id=\"T_127f6_level0_row3\" class=\"row_heading level0 row3\" >3</th>\n",
       "      <td id=\"T_127f6_row3_col0\" class=\"data row3 col0\" >python</td>\n",
       "      <td id=\"T_127f6_row3_col1\" class=\"data row3 col1\" >174</td>\n",
       "    </tr>\n",
       "    <tr>\n",
       "      <th id=\"T_127f6_level0_row4\" class=\"row_heading level0 row4\" >4</th>\n",
       "      <td id=\"T_127f6_row4_col0\" class=\"data row4 col0\" >google</td>\n",
       "      <td id=\"T_127f6_row4_col1\" class=\"data row4 col1\" >167</td>\n",
       "    </tr>\n",
       "    <tr>\n",
       "      <th id=\"T_127f6_level0_row5\" class=\"row_heading level0 row5\" >5</th>\n",
       "      <td id=\"T_127f6_row5_col0\" class=\"data row5 col0\" >bpmn</td>\n",
       "      <td id=\"T_127f6_row5_col1\" class=\"data row5 col1\" >163</td>\n",
       "    </tr>\n",
       "    <tr>\n",
       "      <th id=\"T_127f6_level0_row6\" class=\"row_heading level0 row6\" >6</th>\n",
       "      <td id=\"T_127f6_row6_col0\" class=\"data row6 col0\" >crm</td>\n",
       "      <td id=\"T_127f6_row6_col1\" class=\"data row6 col1\" >147</td>\n",
       "    </tr>\n",
       "    <tr>\n",
       "      <th id=\"T_127f6_level0_row7\" class=\"row_heading level0 row7\" >7</th>\n",
       "      <td id=\"T_127f6_row7_col0\" class=\"data row7 col0\" >office</td>\n",
       "      <td id=\"T_127f6_row7_col1\" class=\"data row7 col1\" >144</td>\n",
       "    </tr>\n",
       "    <tr>\n",
       "      <th id=\"T_127f6_level0_row8\" class=\"row_heading level0 row8\" >8</th>\n",
       "      <td id=\"T_127f6_row8_col0\" class=\"data row8 col0\" >uml</td>\n",
       "      <td id=\"T_127f6_row8_col1\" class=\"data row8 col1\" >118</td>\n",
       "    </tr>\n",
       "    <tr>\n",
       "      <th id=\"T_127f6_level0_row9\" class=\"row_heading level0 row9\" >9</th>\n",
       "      <td id=\"T_127f6_row9_col0\" class=\"data row9 col0\" >kpi</td>\n",
       "      <td id=\"T_127f6_row9_col1\" class=\"data row9 col1\" >110</td>\n",
       "    </tr>\n",
       "  </tbody>\n",
       "</table>\n",
       "          <style type=\"text/css\">\n",
       "#T_d3801_row0_col0, #T_d3801_row0_col1, #T_d3801_row1_col0, #T_d3801_row1_col1, #T_d3801_row2_col0, #T_d3801_row2_col1, #T_d3801_row3_col0, #T_d3801_row3_col1, #T_d3801_row4_col0, #T_d3801_row4_col1, #T_d3801_row5_col0, #T_d3801_row5_col1, #T_d3801_row6_col0, #T_d3801_row6_col1, #T_d3801_row7_col0, #T_d3801_row7_col1, #T_d3801_row8_col0, #T_d3801_row8_col1, #T_d3801_row9_col0, #T_d3801_row9_col1 {\n",
       "  text-align: left;\n",
       "}\n",
       "</style>\n",
       "<table id=\"T_d3801_\" style='display:inline'>\n",
       "  <caption>Top ru words for middle</caption>\n",
       "  <thead>\n",
       "    <tr>\n",
       "      <th class=\"blank level0\" >&nbsp;</th>\n",
       "      <th class=\"col_heading level0 col0\" >words</th>\n",
       "      <th class=\"col_heading level0 col1\" >count</th>\n",
       "    </tr>\n",
       "  </thead>\n",
       "  <tbody>\n",
       "    <tr>\n",
       "      <th id=\"T_d3801_level0_row0\" class=\"row_heading level0 row0\" >0</th>\n",
       "      <td id=\"T_d3801_row0_col0\" class=\"data row0 col0\" >работы</td>\n",
       "      <td id=\"T_d3801_row0_col1\" class=\"data row0 col1\" >3343</td>\n",
       "    </tr>\n",
       "    <tr>\n",
       "      <th id=\"T_d3801_level0_row1\" class=\"row_heading level0 row1\" >1</th>\n",
       "      <td id=\"T_d3801_row1_col0\" class=\"data row1 col0\" >опыт</td>\n",
       "      <td id=\"T_d3801_row1_col1\" class=\"data row1 col1\" >2561</td>\n",
       "    </tr>\n",
       "    <tr>\n",
       "      <th id=\"T_d3801_level0_row2\" class=\"row_heading level0 row2\" >2</th>\n",
       "      <td id=\"T_d3801_row2_col0\" class=\"data row2 col0\" >данных</td>\n",
       "      <td id=\"T_d3801_row2_col1\" class=\"data row2 col1\" >1697</td>\n",
       "    </tr>\n",
       "    <tr>\n",
       "      <th id=\"T_d3801_level0_row3\" class=\"row_heading level0 row3\" >3</th>\n",
       "      <td id=\"T_d3801_row3_col0\" class=\"data row3 col0\" >компании</td>\n",
       "      <td id=\"T_d3801_row3_col1\" class=\"data row3 col1\" >1572</td>\n",
       "    </tr>\n",
       "    <tr>\n",
       "      <th id=\"T_d3801_level0_row4\" class=\"row_heading level0 row4\" >4</th>\n",
       "      <td id=\"T_d3801_row4_col0\" class=\"data row4 col0\" >бизнес</td>\n",
       "      <td id=\"T_d3801_row4_col1\" class=\"data row4 col1\" >1491</td>\n",
       "    </tr>\n",
       "    <tr>\n",
       "      <th id=\"T_d3801_level0_row5\" class=\"row_heading level0 row5\" >5</th>\n",
       "      <td id=\"T_d3801_row5_col0\" class=\"data row5 col0\" >анализ</td>\n",
       "      <td id=\"T_d3801_row5_col1\" class=\"data row5 col1\" >1407</td>\n",
       "    </tr>\n",
       "    <tr>\n",
       "      <th id=\"T_d3801_level0_row6\" class=\"row_heading level0 row6\" >6</th>\n",
       "      <td id=\"T_d3801_row6_col0\" class=\"data row6 col0\" >знание</td>\n",
       "      <td id=\"T_d3801_row6_col1\" class=\"data row6 col1\" >1300</td>\n",
       "    </tr>\n",
       "    <tr>\n",
       "      <th id=\"T_d3801_level0_row7\" class=\"row_heading level0 row7\" >7</th>\n",
       "      <td id=\"T_d3801_row7_col0\" class=\"data row7 col0\" >работа</td>\n",
       "      <td id=\"T_d3801_row7_col1\" class=\"data row7 col1\" >1071</td>\n",
       "    </tr>\n",
       "    <tr>\n",
       "      <th id=\"T_d3801_level0_row8\" class=\"row_heading level0 row8\" >8</th>\n",
       "      <td id=\"T_d3801_row8_col0\" class=\"data row8 col0\" >процессов</td>\n",
       "      <td id=\"T_d3801_row8_col1\" class=\"data row8 col1\" >1001</td>\n",
       "    </tr>\n",
       "    <tr>\n",
       "      <th id=\"T_d3801_level0_row9\" class=\"row_heading level0 row9\" >9</th>\n",
       "      <td id=\"T_d3801_row9_col0\" class=\"data row9 col0\" >умение</td>\n",
       "      <td id=\"T_d3801_row9_col1\" class=\"data row9 col1\" >937</td>\n",
       "    </tr>\n",
       "  </tbody>\n",
       "</table>\n",
       "          "
      ],
      "text/plain": [
       "<IPython.core.display.HTML object>"
      ]
     },
     "metadata": {},
     "output_type": "display_data"
    },
    {
     "data": {
      "text/html": [
       "<style type=\"text/css\">\n",
       "#T_57aa0_row0_col0, #T_57aa0_row0_col1, #T_57aa0_row1_col0, #T_57aa0_row1_col1, #T_57aa0_row2_col0, #T_57aa0_row2_col1, #T_57aa0_row3_col0, #T_57aa0_row3_col1, #T_57aa0_row4_col0, #T_57aa0_row4_col1, #T_57aa0_row5_col0, #T_57aa0_row5_col1, #T_57aa0_row6_col0, #T_57aa0_row6_col1, #T_57aa0_row7_col0, #T_57aa0_row7_col1, #T_57aa0_row8_col0, #T_57aa0_row8_col1, #T_57aa0_row9_col0, #T_57aa0_row9_col1 {\n",
       "  text-align: left;\n",
       "}\n",
       "</style>\n",
       "<table id=\"T_57aa0_\" style='display:inline'>\n",
       "  <caption>Top skills for senior</caption>\n",
       "  <thead>\n",
       "    <tr>\n",
       "      <th class=\"blank level0\" >&nbsp;</th>\n",
       "      <th class=\"col_heading level0 col0\" >skills</th>\n",
       "      <th class=\"col_heading level0 col1\" >count</th>\n",
       "    </tr>\n",
       "  </thead>\n",
       "  <tbody>\n",
       "    <tr>\n",
       "      <th id=\"T_57aa0_level0_row0\" class=\"row_heading level0 row0\" >0</th>\n",
       "      <td id=\"T_57aa0_row0_col0\" class=\"data row0 col0\" >sql</td>\n",
       "      <td id=\"T_57aa0_row0_col1\" class=\"data row0 col1\" >125</td>\n",
       "    </tr>\n",
       "    <tr>\n",
       "      <th id=\"T_57aa0_level0_row1\" class=\"row_heading level0 row1\" >1</th>\n",
       "      <td id=\"T_57aa0_row1_col0\" class=\"data row1 col0\" >аналитическое мышление</td>\n",
       "      <td id=\"T_57aa0_row1_col1\" class=\"data row1 col1\" >102</td>\n",
       "    </tr>\n",
       "    <tr>\n",
       "      <th id=\"T_57aa0_level0_row2\" class=\"row_heading level0 row2\" >2</th>\n",
       "      <td id=\"T_57aa0_row2_col0\" class=\"data row2 col0\" >анализ данных</td>\n",
       "      <td id=\"T_57aa0_row2_col1\" class=\"data row2 col1\" >80</td>\n",
       "    </tr>\n",
       "    <tr>\n",
       "      <th id=\"T_57aa0_level0_row3\" class=\"row_heading level0 row3\" >3</th>\n",
       "      <td id=\"T_57aa0_row3_col0\" class=\"data row3 col0\" >bpmn</td>\n",
       "      <td id=\"T_57aa0_row3_col1\" class=\"data row3 col1\" >77</td>\n",
       "    </tr>\n",
       "    <tr>\n",
       "      <th id=\"T_57aa0_level0_row4\" class=\"row_heading level0 row4\" >4</th>\n",
       "      <td id=\"T_57aa0_row4_col0\" class=\"data row4 col0\" >ms powerpoint</td>\n",
       "      <td id=\"T_57aa0_row4_col1\" class=\"data row4 col1\" >73</td>\n",
       "    </tr>\n",
       "    <tr>\n",
       "      <th id=\"T_57aa0_level0_row5\" class=\"row_heading level0 row5\" >5</th>\n",
       "      <td id=\"T_57aa0_row5_col0\" class=\"data row5 col0\" >бизнес-анализ</td>\n",
       "      <td id=\"T_57aa0_row5_col1\" class=\"data row5 col1\" >66</td>\n",
       "    </tr>\n",
       "    <tr>\n",
       "      <th id=\"T_57aa0_level0_row6\" class=\"row_heading level0 row6\" >6</th>\n",
       "      <td id=\"T_57aa0_row6_col0\" class=\"data row6 col0\" >uml</td>\n",
       "      <td id=\"T_57aa0_row6_col1\" class=\"data row6 col1\" >63</td>\n",
       "    </tr>\n",
       "    <tr>\n",
       "      <th id=\"T_57aa0_level0_row7\" class=\"row_heading level0 row7\" >7</th>\n",
       "      <td id=\"T_57aa0_row7_col0\" class=\"data row7 col0\" >работа с большим объемом информации</td>\n",
       "      <td id=\"T_57aa0_row7_col1\" class=\"data row7 col1\" >53</td>\n",
       "    </tr>\n",
       "    <tr>\n",
       "      <th id=\"T_57aa0_level0_row8\" class=\"row_heading level0 row8\" >8</th>\n",
       "      <td id=\"T_57aa0_row8_col0\" class=\"data row8 col0\" >аналитика</td>\n",
       "      <td id=\"T_57aa0_row8_col1\" class=\"data row8 col1\" >47</td>\n",
       "    </tr>\n",
       "    <tr>\n",
       "      <th id=\"T_57aa0_level0_row9\" class=\"row_heading level0 row9\" >9</th>\n",
       "      <td id=\"T_57aa0_row9_col0\" class=\"data row9 col0\" >системный анализ</td>\n",
       "      <td id=\"T_57aa0_row9_col1\" class=\"data row9 col1\" >45</td>\n",
       "    </tr>\n",
       "  </tbody>\n",
       "</table>\n",
       "          <style type=\"text/css\">\n",
       "#T_99cf8_row0_col0, #T_99cf8_row0_col1, #T_99cf8_row1_col0, #T_99cf8_row1_col1, #T_99cf8_row2_col0, #T_99cf8_row2_col1, #T_99cf8_row3_col0, #T_99cf8_row3_col1, #T_99cf8_row4_col0, #T_99cf8_row4_col1, #T_99cf8_row5_col0, #T_99cf8_row5_col1, #T_99cf8_row6_col0, #T_99cf8_row6_col1, #T_99cf8_row7_col0, #T_99cf8_row7_col1, #T_99cf8_row8_col0, #T_99cf8_row8_col1, #T_99cf8_row9_col0, #T_99cf8_row9_col1 {\n",
       "  text-align: left;\n",
       "}\n",
       "</style>\n",
       "<table id=\"T_99cf8_\" style='display:inline'>\n",
       "  <caption>Top en words for senior</caption>\n",
       "  <thead>\n",
       "    <tr>\n",
       "      <th class=\"blank level0\" >&nbsp;</th>\n",
       "      <th class=\"col_heading level0 col0\" >words</th>\n",
       "      <th class=\"col_heading level0 col1\" >count</th>\n",
       "    </tr>\n",
       "  </thead>\n",
       "  <tbody>\n",
       "    <tr>\n",
       "      <th id=\"T_99cf8_level0_row0\" class=\"row_heading level0 row0\" >0</th>\n",
       "      <td id=\"T_99cf8_row0_col0\" class=\"data row0 col0\" >sql</td>\n",
       "      <td id=\"T_99cf8_row0_col1\" class=\"data row0 col1\" >211</td>\n",
       "    </tr>\n",
       "    <tr>\n",
       "      <th id=\"T_99cf8_level0_row1\" class=\"row_heading level0 row1\" >1</th>\n",
       "      <td id=\"T_99cf8_row1_col0\" class=\"data row1 col0\" >excel</td>\n",
       "      <td id=\"T_99cf8_row1_col1\" class=\"data row1 col1\" >202</td>\n",
       "    </tr>\n",
       "    <tr>\n",
       "      <th id=\"T_99cf8_level0_row2\" class=\"row_heading level0 row2\" >2</th>\n",
       "      <td id=\"T_99cf8_row2_col0\" class=\"data row2 col0\" >power</td>\n",
       "      <td id=\"T_99cf8_row2_col1\" class=\"data row2 col1\" >110</td>\n",
       "    </tr>\n",
       "    <tr>\n",
       "      <th id=\"T_99cf8_level0_row3\" class=\"row_heading level0 row3\" >3</th>\n",
       "      <td id=\"T_99cf8_row3_col0\" class=\"data row3 col0\" >bpmn</td>\n",
       "      <td id=\"T_99cf8_row3_col1\" class=\"data row3 col1\" >101</td>\n",
       "    </tr>\n",
       "    <tr>\n",
       "      <th id=\"T_99cf8_level0_row4\" class=\"row_heading level0 row4\" >4</th>\n",
       "      <td id=\"T_99cf8_row4_col0\" class=\"data row4 col0\" >erp</td>\n",
       "      <td id=\"T_99cf8_row4_col1\" class=\"data row4 col1\" >84</td>\n",
       "    </tr>\n",
       "    <tr>\n",
       "      <th id=\"T_99cf8_level0_row5\" class=\"row_heading level0 row5\" >5</th>\n",
       "      <td id=\"T_99cf8_row5_col0\" class=\"data row5 col0\" >uml</td>\n",
       "      <td id=\"T_99cf8_row5_col1\" class=\"data row5 col1\" >79</td>\n",
       "    </tr>\n",
       "    <tr>\n",
       "      <th id=\"T_99cf8_level0_row6\" class=\"row_heading level0 row6\" >6</th>\n",
       "      <td id=\"T_99cf8_row6_col0\" class=\"data row6 col0\" >office</td>\n",
       "      <td id=\"T_99cf8_row6_col1\" class=\"data row6 col1\" >74</td>\n",
       "    </tr>\n",
       "    <tr>\n",
       "      <th id=\"T_99cf8_level0_row7\" class=\"row_heading level0 row7\" >7</th>\n",
       "      <td id=\"T_99cf8_row7_col0\" class=\"data row7 col0\" >python</td>\n",
       "      <td id=\"T_99cf8_row7_col1\" class=\"data row7 col1\" >69</td>\n",
       "    </tr>\n",
       "    <tr>\n",
       "      <th id=\"T_99cf8_level0_row8\" class=\"row_heading level0 row8\" >8</th>\n",
       "      <td id=\"T_99cf8_row8_col0\" class=\"data row8 col0\" >google</td>\n",
       "      <td id=\"T_99cf8_row8_col1\" class=\"data row8 col1\" >62</td>\n",
       "    </tr>\n",
       "    <tr>\n",
       "      <th id=\"T_99cf8_level0_row9\" class=\"row_heading level0 row9\" >9</th>\n",
       "      <td id=\"T_99cf8_row9_col0\" class=\"data row9 col0\" >api</td>\n",
       "      <td id=\"T_99cf8_row9_col1\" class=\"data row9 col1\" >61</td>\n",
       "    </tr>\n",
       "  </tbody>\n",
       "</table>\n",
       "          <style type=\"text/css\">\n",
       "#T_7c217_row0_col0, #T_7c217_row0_col1, #T_7c217_row1_col0, #T_7c217_row1_col1, #T_7c217_row2_col0, #T_7c217_row2_col1, #T_7c217_row3_col0, #T_7c217_row3_col1, #T_7c217_row4_col0, #T_7c217_row4_col1, #T_7c217_row5_col0, #T_7c217_row5_col1, #T_7c217_row6_col0, #T_7c217_row6_col1, #T_7c217_row7_col0, #T_7c217_row7_col1, #T_7c217_row8_col0, #T_7c217_row8_col1, #T_7c217_row9_col0, #T_7c217_row9_col1 {\n",
       "  text-align: left;\n",
       "}\n",
       "</style>\n",
       "<table id=\"T_7c217_\" style='display:inline'>\n",
       "  <caption>Top ru words for senior</caption>\n",
       "  <thead>\n",
       "    <tr>\n",
       "      <th class=\"blank level0\" >&nbsp;</th>\n",
       "      <th class=\"col_heading level0 col0\" >words</th>\n",
       "      <th class=\"col_heading level0 col1\" >count</th>\n",
       "    </tr>\n",
       "  </thead>\n",
       "  <tbody>\n",
       "    <tr>\n",
       "      <th id=\"T_7c217_level0_row0\" class=\"row_heading level0 row0\" >0</th>\n",
       "      <td id=\"T_7c217_row0_col0\" class=\"data row0 col0\" >работы</td>\n",
       "      <td id=\"T_7c217_row0_col1\" class=\"data row0 col1\" >1316</td>\n",
       "    </tr>\n",
       "    <tr>\n",
       "      <th id=\"T_7c217_level0_row1\" class=\"row_heading level0 row1\" >1</th>\n",
       "      <td id=\"T_7c217_row1_col0\" class=\"data row1 col0\" >опыт</td>\n",
       "      <td id=\"T_7c217_row1_col1\" class=\"data row1 col1\" >1224</td>\n",
       "    </tr>\n",
       "    <tr>\n",
       "      <th id=\"T_7c217_level0_row2\" class=\"row_heading level0 row2\" >2</th>\n",
       "      <td id=\"T_7c217_row2_col0\" class=\"data row2 col0\" >бизнес</td>\n",
       "      <td id=\"T_7c217_row2_col1\" class=\"data row2 col1\" >768</td>\n",
       "    </tr>\n",
       "    <tr>\n",
       "      <th id=\"T_7c217_level0_row3\" class=\"row_heading level0 row3\" >3</th>\n",
       "      <td id=\"T_7c217_row3_col0\" class=\"data row3 col0\" >данных</td>\n",
       "      <td id=\"T_7c217_row3_col1\" class=\"data row3 col1\" >670</td>\n",
       "    </tr>\n",
       "    <tr>\n",
       "      <th id=\"T_7c217_level0_row4\" class=\"row_heading level0 row4\" >4</th>\n",
       "      <td id=\"T_7c217_row4_col0\" class=\"data row4 col0\" >компании</td>\n",
       "      <td id=\"T_7c217_row4_col1\" class=\"data row4 col1\" >641</td>\n",
       "    </tr>\n",
       "    <tr>\n",
       "      <th id=\"T_7c217_level0_row5\" class=\"row_heading level0 row5\" >5</th>\n",
       "      <td id=\"T_7c217_row5_col0\" class=\"data row5 col0\" >знание</td>\n",
       "      <td id=\"T_7c217_row5_col1\" class=\"data row5 col1\" >609</td>\n",
       "    </tr>\n",
       "    <tr>\n",
       "      <th id=\"T_7c217_level0_row6\" class=\"row_heading level0 row6\" >6</th>\n",
       "      <td id=\"T_7c217_row6_col0\" class=\"data row6 col0\" >анализ</td>\n",
       "      <td id=\"T_7c217_row6_col1\" class=\"data row6 col1\" >606</td>\n",
       "    </tr>\n",
       "    <tr>\n",
       "      <th id=\"T_7c217_level0_row7\" class=\"row_heading level0 row7\" >7</th>\n",
       "      <td id=\"T_7c217_row7_col0\" class=\"data row7 col0\" >процессов</td>\n",
       "      <td id=\"T_7c217_row7_col1\" class=\"data row7 col1\" >532</td>\n",
       "    </tr>\n",
       "    <tr>\n",
       "      <th id=\"T_7c217_level0_row8\" class=\"row_heading level0 row8\" >8</th>\n",
       "      <td id=\"T_7c217_row8_col0\" class=\"data row8 col0\" >требования</td>\n",
       "      <td id=\"T_7c217_row8_col1\" class=\"data row8 col1\" >411</td>\n",
       "    </tr>\n",
       "    <tr>\n",
       "      <th id=\"T_7c217_level0_row9\" class=\"row_heading level0 row9\" >9</th>\n",
       "      <td id=\"T_7c217_row9_col0\" class=\"data row9 col0\" >умение</td>\n",
       "      <td id=\"T_7c217_row9_col1\" class=\"data row9 col1\" >380</td>\n",
       "    </tr>\n",
       "  </tbody>\n",
       "</table>\n",
       "          "
      ],
      "text/plain": [
       "<IPython.core.display.HTML object>"
      ]
     },
     "metadata": {},
     "output_type": "display_data"
    },
    {
     "data": {
      "text/html": [
       "<style type=\"text/css\">\n",
       "#T_998ec_row0_col0, #T_998ec_row0_col1, #T_998ec_row1_col0, #T_998ec_row1_col1, #T_998ec_row2_col0, #T_998ec_row2_col1, #T_998ec_row3_col0, #T_998ec_row3_col1, #T_998ec_row4_col0, #T_998ec_row4_col1, #T_998ec_row5_col0, #T_998ec_row5_col1, #T_998ec_row6_col0, #T_998ec_row6_col1, #T_998ec_row7_col0, #T_998ec_row7_col1, #T_998ec_row8_col0, #T_998ec_row8_col1, #T_998ec_row9_col0, #T_998ec_row9_col1 {\n",
       "  text-align: left;\n",
       "}\n",
       "</style>\n",
       "<table id=\"T_998ec_\" style='display:inline'>\n",
       "  <caption>Top skills for lead</caption>\n",
       "  <thead>\n",
       "    <tr>\n",
       "      <th class=\"blank level0\" >&nbsp;</th>\n",
       "      <th class=\"col_heading level0 col0\" >skills</th>\n",
       "      <th class=\"col_heading level0 col1\" >count</th>\n",
       "    </tr>\n",
       "  </thead>\n",
       "  <tbody>\n",
       "    <tr>\n",
       "      <th id=\"T_998ec_level0_row0\" class=\"row_heading level0 row0\" >0</th>\n",
       "      <td id=\"T_998ec_row0_col0\" class=\"data row0 col0\" >аналитическое мышление</td>\n",
       "      <td id=\"T_998ec_row0_col1\" class=\"data row0 col1\" >4</td>\n",
       "    </tr>\n",
       "    <tr>\n",
       "      <th id=\"T_998ec_level0_row1\" class=\"row_heading level0 row1\" >1</th>\n",
       "      <td id=\"T_998ec_row1_col0\" class=\"data row1 col0\" >бизнес-анализ</td>\n",
       "      <td id=\"T_998ec_row1_col1\" class=\"data row1 col1\" >4</td>\n",
       "    </tr>\n",
       "    <tr>\n",
       "      <th id=\"T_998ec_level0_row2\" class=\"row_heading level0 row2\" >2</th>\n",
       "      <td id=\"T_998ec_row2_col0\" class=\"data row2 col0\" >ms visio</td>\n",
       "      <td id=\"T_998ec_row2_col1\" class=\"data row2 col1\" >3</td>\n",
       "    </tr>\n",
       "    <tr>\n",
       "      <th id=\"T_998ec_level0_row3\" class=\"row_heading level0 row3\" >3</th>\n",
       "      <td id=\"T_998ec_row3_col0\" class=\"data row3 col0\" >bpmn</td>\n",
       "      <td id=\"T_998ec_row3_col1\" class=\"data row3 col1\" >3</td>\n",
       "    </tr>\n",
       "    <tr>\n",
       "      <th id=\"T_998ec_level0_row4\" class=\"row_heading level0 row4\" >4</th>\n",
       "      <td id=\"T_998ec_row4_col0\" class=\"data row4 col0\" >системный анализ</td>\n",
       "      <td id=\"T_998ec_row4_col1\" class=\"data row4 col1\" >3</td>\n",
       "    </tr>\n",
       "    <tr>\n",
       "      <th id=\"T_998ec_level0_row5\" class=\"row_heading level0 row5\" >5</th>\n",
       "      <td id=\"T_998ec_row5_col0\" class=\"data row5 col0\" >моделирование бизнес процессов</td>\n",
       "      <td id=\"T_998ec_row5_col1\" class=\"data row5 col1\" >3</td>\n",
       "    </tr>\n",
       "    <tr>\n",
       "      <th id=\"T_998ec_level0_row6\" class=\"row_heading level0 row6\" >6</th>\n",
       "      <td id=\"T_998ec_row6_col0\" class=\"data row6 col0\" >оптимизация бизнес-процессов</td>\n",
       "      <td id=\"T_998ec_row6_col1\" class=\"data row6 col1\" >3</td>\n",
       "    </tr>\n",
       "    <tr>\n",
       "      <th id=\"T_998ec_level0_row7\" class=\"row_heading level0 row7\" >7</th>\n",
       "      <td id=\"T_998ec_row7_col0\" class=\"data row7 col0\" >sql</td>\n",
       "      <td id=\"T_998ec_row7_col1\" class=\"data row7 col1\" >2</td>\n",
       "    </tr>\n",
       "    <tr>\n",
       "      <th id=\"T_998ec_level0_row8\" class=\"row_heading level0 row8\" >8</th>\n",
       "      <td id=\"T_998ec_row8_col0\" class=\"data row8 col0\" >1с-битрикс</td>\n",
       "      <td id=\"T_998ec_row8_col1\" class=\"data row8 col1\" >2</td>\n",
       "    </tr>\n",
       "    <tr>\n",
       "      <th id=\"T_998ec_level0_row9\" class=\"row_heading level0 row9\" >9</th>\n",
       "      <td id=\"T_998ec_row9_col0\" class=\"data row9 col0\" >power bi</td>\n",
       "      <td id=\"T_998ec_row9_col1\" class=\"data row9 col1\" >2</td>\n",
       "    </tr>\n",
       "  </tbody>\n",
       "</table>\n",
       "          <style type=\"text/css\">\n",
       "#T_c97ff_row0_col0, #T_c97ff_row0_col1, #T_c97ff_row1_col0, #T_c97ff_row1_col1, #T_c97ff_row2_col0, #T_c97ff_row2_col1, #T_c97ff_row3_col0, #T_c97ff_row3_col1, #T_c97ff_row4_col0, #T_c97ff_row4_col1, #T_c97ff_row5_col0, #T_c97ff_row5_col1, #T_c97ff_row6_col0, #T_c97ff_row6_col1, #T_c97ff_row7_col0, #T_c97ff_row7_col1, #T_c97ff_row8_col0, #T_c97ff_row8_col1, #T_c97ff_row9_col0, #T_c97ff_row9_col1 {\n",
       "  text-align: left;\n",
       "}\n",
       "</style>\n",
       "<table id=\"T_c97ff_\" style='display:inline'>\n",
       "  <caption>Top en words for lead</caption>\n",
       "  <thead>\n",
       "    <tr>\n",
       "      <th class=\"blank level0\" >&nbsp;</th>\n",
       "      <th class=\"col_heading level0 col0\" >words</th>\n",
       "      <th class=\"col_heading level0 col1\" >count</th>\n",
       "    </tr>\n",
       "  </thead>\n",
       "  <tbody>\n",
       "    <tr>\n",
       "      <th id=\"T_c97ff_level0_row0\" class=\"row_heading level0 row0\" >0</th>\n",
       "      <td id=\"T_c97ff_row0_col0\" class=\"data row0 col0\" >erp</td>\n",
       "      <td id=\"T_c97ff_row0_col1\" class=\"data row0 col1\" >6</td>\n",
       "    </tr>\n",
       "    <tr>\n",
       "      <th id=\"T_c97ff_level0_row1\" class=\"row_heading level0 row1\" >1</th>\n",
       "      <td id=\"T_c97ff_row1_col0\" class=\"data row1 col0\" >bpmn</td>\n",
       "      <td id=\"T_c97ff_row1_col1\" class=\"data row1 col1\" >5</td>\n",
       "    </tr>\n",
       "    <tr>\n",
       "      <th id=\"T_c97ff_level0_row2\" class=\"row_heading level0 row2\" >2</th>\n",
       "      <td id=\"T_c97ff_row2_col0\" class=\"data row2 col0\" >sql</td>\n",
       "      <td id=\"T_c97ff_row2_col1\" class=\"data row2 col1\" >4</td>\n",
       "    </tr>\n",
       "    <tr>\n",
       "      <th id=\"T_c97ff_level0_row3\" class=\"row_heading level0 row3\" >3</th>\n",
       "      <td id=\"T_c97ff_row3_col0\" class=\"data row3 col0\" >excel</td>\n",
       "      <td id=\"T_c97ff_row3_col1\" class=\"data row3 col1\" >3</td>\n",
       "    </tr>\n",
       "    <tr>\n",
       "      <th id=\"T_c97ff_level0_row4\" class=\"row_heading level0 row4\" >4</th>\n",
       "      <td id=\"T_c97ff_row4_col0\" class=\"data row4 col0\" >group</td>\n",
       "      <td id=\"T_c97ff_row4_col1\" class=\"data row4 col1\" >3</td>\n",
       "    </tr>\n",
       "    <tr>\n",
       "      <th id=\"T_c97ff_level0_row5\" class=\"row_heading level0 row5\" >5</th>\n",
       "      <td id=\"T_c97ff_row5_col0\" class=\"data row5 col0\" >uml</td>\n",
       "      <td id=\"T_c97ff_row5_col1\" class=\"data row5 col1\" >3</td>\n",
       "    </tr>\n",
       "    <tr>\n",
       "      <th id=\"T_c97ff_level0_row6\" class=\"row_heading level0 row6\" >6</th>\n",
       "      <td id=\"T_c97ff_row6_col0\" class=\"data row6 col0\" >sft</td>\n",
       "      <td id=\"T_c97ff_row6_col1\" class=\"data row6 col1\" >2</td>\n",
       "    </tr>\n",
       "    <tr>\n",
       "      <th id=\"T_c97ff_level0_row7\" class=\"row_heading level0 row7\" >7</th>\n",
       "      <td id=\"T_c97ff_row7_col0\" class=\"data row7 col0\" >office</td>\n",
       "      <td id=\"T_c97ff_row7_col1\" class=\"data row7 col1\" >2</td>\n",
       "    </tr>\n",
       "    <tr>\n",
       "      <th id=\"T_c97ff_level0_row8\" class=\"row_heading level0 row8\" >8</th>\n",
       "      <td id=\"T_c97ff_row8_col0\" class=\"data row8 col0\" >code</td>\n",
       "      <td id=\"T_c97ff_row8_col1\" class=\"data row8 col1\" >2</td>\n",
       "    </tr>\n",
       "    <tr>\n",
       "      <th id=\"T_c97ff_level0_row9\" class=\"row_heading level0 row9\" >9</th>\n",
       "      <td id=\"T_c97ff_row9_col0\" class=\"data row9 col0\" >idef</td>\n",
       "      <td id=\"T_c97ff_row9_col1\" class=\"data row9 col1\" >2</td>\n",
       "    </tr>\n",
       "  </tbody>\n",
       "</table>\n",
       "          <style type=\"text/css\">\n",
       "#T_54456_row0_col0, #T_54456_row0_col1, #T_54456_row1_col0, #T_54456_row1_col1, #T_54456_row2_col0, #T_54456_row2_col1, #T_54456_row3_col0, #T_54456_row3_col1, #T_54456_row4_col0, #T_54456_row4_col1, #T_54456_row5_col0, #T_54456_row5_col1, #T_54456_row6_col0, #T_54456_row6_col1, #T_54456_row7_col0, #T_54456_row7_col1, #T_54456_row8_col0, #T_54456_row8_col1, #T_54456_row9_col0, #T_54456_row9_col1 {\n",
       "  text-align: left;\n",
       "}\n",
       "</style>\n",
       "<table id=\"T_54456_\" style='display:inline'>\n",
       "  <caption>Top ru words for lead</caption>\n",
       "  <thead>\n",
       "    <tr>\n",
       "      <th class=\"blank level0\" >&nbsp;</th>\n",
       "      <th class=\"col_heading level0 col0\" >words</th>\n",
       "      <th class=\"col_heading level0 col1\" >count</th>\n",
       "    </tr>\n",
       "  </thead>\n",
       "  <tbody>\n",
       "    <tr>\n",
       "      <th id=\"T_54456_level0_row0\" class=\"row_heading level0 row0\" >0</th>\n",
       "      <td id=\"T_54456_row0_col0\" class=\"data row0 col0\" >работы</td>\n",
       "      <td id=\"T_54456_row0_col1\" class=\"data row0 col1\" >38</td>\n",
       "    </tr>\n",
       "    <tr>\n",
       "      <th id=\"T_54456_level0_row1\" class=\"row_heading level0 row1\" >1</th>\n",
       "      <td id=\"T_54456_row1_col0\" class=\"data row1 col0\" >опыт</td>\n",
       "      <td id=\"T_54456_row1_col1\" class=\"data row1 col1\" >35</td>\n",
       "    </tr>\n",
       "    <tr>\n",
       "      <th id=\"T_54456_level0_row2\" class=\"row_heading level0 row2\" >2</th>\n",
       "      <td id=\"T_54456_row2_col0\" class=\"data row2 col0\" >бизнес</td>\n",
       "      <td id=\"T_54456_row2_col1\" class=\"data row2 col1\" >29</td>\n",
       "    </tr>\n",
       "    <tr>\n",
       "      <th id=\"T_54456_level0_row3\" class=\"row_heading level0 row3\" >3</th>\n",
       "      <td id=\"T_54456_row3_col0\" class=\"data row3 col0\" >компании</td>\n",
       "      <td id=\"T_54456_row3_col1\" class=\"data row3 col1\" >28</td>\n",
       "    </tr>\n",
       "    <tr>\n",
       "      <th id=\"T_54456_level0_row4\" class=\"row_heading level0 row4\" >4</th>\n",
       "      <td id=\"T_54456_row4_col0\" class=\"data row4 col0\" >знание</td>\n",
       "      <td id=\"T_54456_row4_col1\" class=\"data row4 col1\" >25</td>\n",
       "    </tr>\n",
       "    <tr>\n",
       "      <th id=\"T_54456_level0_row5\" class=\"row_heading level0 row5\" >5</th>\n",
       "      <td id=\"T_54456_row5_col0\" class=\"data row5 col0\" >процессов</td>\n",
       "      <td id=\"T_54456_row5_col1\" class=\"data row5 col1\" >23</td>\n",
       "    </tr>\n",
       "    <tr>\n",
       "      <th id=\"T_54456_level0_row6\" class=\"row_heading level0 row6\" >6</th>\n",
       "      <td id=\"T_54456_row6_col0\" class=\"data row6 col0\" >анализ</td>\n",
       "      <td id=\"T_54456_row6_col1\" class=\"data row6 col1\" >20</td>\n",
       "    </tr>\n",
       "    <tr>\n",
       "      <th id=\"T_54456_level0_row7\" class=\"row_heading level0 row7\" >7</th>\n",
       "      <td id=\"T_54456_row7_col0\" class=\"data row7 col0\" >систем</td>\n",
       "      <td id=\"T_54456_row7_col1\" class=\"data row7 col1\" >17</td>\n",
       "    </tr>\n",
       "    <tr>\n",
       "      <th id=\"T_54456_level0_row8\" class=\"row_heading level0 row8\" >8</th>\n",
       "      <td id=\"T_54456_row8_col0\" class=\"data row8 col0\" >работа</td>\n",
       "      <td id=\"T_54456_row8_col1\" class=\"data row8 col1\" >16</td>\n",
       "    </tr>\n",
       "    <tr>\n",
       "      <th id=\"T_54456_level0_row9\" class=\"row_heading level0 row9\" >9</th>\n",
       "      <td id=\"T_54456_row9_col0\" class=\"data row9 col0\" >данных</td>\n",
       "      <td id=\"T_54456_row9_col1\" class=\"data row9 col1\" >14</td>\n",
       "    </tr>\n",
       "  </tbody>\n",
       "</table>\n",
       "          "
      ],
      "text/plain": [
       "<IPython.core.display.HTML object>"
      ]
     },
     "metadata": {},
     "output_type": "display_data"
    }
   ],
   "source": [
    "display_side_by_side([pd.DataFrame({'skills':jun_skills.index, 'count':jun_skills.values}),\n",
    "                      pd.DataFrame({'words':jun_en_words.index, 'count':jun_en_words.values}),\n",
    "                      pd.DataFrame({'words':jun_ru_words.index, 'count':jun_ru_words.values})],\n",
    "                     ['Top skills for junior', 'Top en words for junior', 'Top ru words for junior'], 10) \n",
    "display_side_by_side([pd.DataFrame({'skills':mid_skills.index, 'count':mid_skills.values}),\n",
    "                      pd.DataFrame({'words':mid_en_words.index, 'count':mid_en_words.values}),\n",
    "                      pd.DataFrame({'words':mid_ru_words.index, 'count':mid_ru_words.values})],\n",
    "                     ['Top skills for middle', 'Top en words for middle', 'Top ru words for middle'], 10) \n",
    "display_side_by_side([pd.DataFrame({'skills':sen_skills.index, 'count':sen_skills.values}),\n",
    "                      pd.DataFrame({'words':sen_en_words.index, 'count':sen_en_words.values}),\n",
    "                      pd.DataFrame({'words':sen_ru_words.index, 'count':sen_ru_words.values})],\n",
    "                     ['Top skills for senior', 'Top en words for senior', 'Top ru words for senior'], 10) \n",
    "display_side_by_side([pd.DataFrame({'skills':lead_skills.index, 'count':lead_skills.values}),\n",
    "                      pd.DataFrame({'words':lead_en_words.index, 'count':lead_en_words.values}),\n",
    "                      pd.DataFrame({'words':lead_ru_words.index, 'count':lead_ru_words.values})],\n",
    "                     ['Top skills for lead', 'Top en words for lead', 'Top ru words for lead'], 10) "
   ]
  },
  {
   "cell_type": "markdown",
   "id": "1f8a6424",
   "metadata": {
    "papermill": {
     "duration": 0.020302,
     "end_time": "2022-11-22T10:53:01.151137",
     "exception": false,
     "start_time": "2022-11-22T10:53:01.130835",
     "status": "completed"
    },
    "tags": []
   },
   "source": [
    "<a id=\"data_skills_conclusion\"></a>\n",
    "### Вывод\n",
    "Сначала были найдены самые нужные ключевые умения и повторяющиеся слова из описания для всех вакансий, а потом они были разложены по уровню вакансии. По таблицам можно отследить, что для JUNIOR позиций ключевые навыки более общие и скорее направлены на понимание и обучаемость кандидата. А начиная с MIDDLE требования приобретают конкретику. Такие требования как: `пользователь пк`, `поиск информации в интернет`, `грамотная речь` вообще не попадают в топ 10 самых частых в вакансиях выше начального уровня. \n",
    "\n",
    "Так же из интересного можно заметить как слово `опыт` поднимается снизу у JUNIOR в верх у более опытных уровней."
   ]
  },
  {
   "cell_type": "markdown",
   "id": "4dc453c9",
   "metadata": {
    "papermill": {
     "duration": 0.019996,
     "end_time": "2022-11-22T10:53:01.192330",
     "exception": false,
     "start_time": "2022-11-22T10:53:01.172334",
     "status": "completed"
    },
    "tags": []
   },
   "source": [
    "<a id=\"final_conclusion\"></a>\n",
    "## Общие выводы\n",
    "Используя `api`, был написан парсер для ресурса по поиску работы `hh.ru`, в который можно подавать `кастомизированные запросы`. Название вакансии(в.ч. и сложные/составные запросы `Manager AND Doctor`), регион (с той точностью что позволяет сервис).\n",
    "\n",
    "После этого запустили парсинг вакансий по запросу `Аналитик`, `по всей России`. Собранные данные были обработаны(напр. раставлены типы данных) и записаны в файл `CSV`.\n",
    "\n",
    "Далее эти данные были предобработаны: удалены явные дубликаты, обработаны валютные вакансии. Потом был добавлен новый столбец со средней ценой в зависимости от значения зарплаты `от/до` по формуле `(salary_from + salary_to) / 2`. \n",
    "\n",
    "Затем была проанализирована зарплата по вакансиям:\n",
    "- среднее значение `от/до` соответственно равно `71_000 и 101_000 рублей`\n",
    "- медианное значение `от/до` соответственно равно `65_000 и 80_000 рублей`\n",
    "- большая часть вакансий лежит в промежутке от `30_000 до 100_000 рублей`\n",
    "- по данным `от` минимальная зарплата `10_000 рублей`, а максимальная `180_000 рублей`\n",
    "- по данным `до` минимальная зарплата `15_000 рублей`, а максимальная `300_000 рублей`\n",
    "\n",
    "- больше всего вакансий с требованием опыта `от 1 до 3` и `от 3 до 6`\n",
    "- хорошо видна корреляция `чем больше опыта, тем выше зарплата`\n",
    "- достаточно много вакансий не требующих опыта\n",
    "- различия в оплате между `от 1 до 3` и `от 3 до 6` практически нет\n",
    "- диапазон зарплат больше у категорий `нет опыта` и `от 3 до 6`\n",
    "\n",
    "Так же на рынке труда нужны молодые специалисты, но ожидаемая зарплата для них `30_000 - 80_000` рублей. А так же правило `чем больше опыта, тем выше зарплата` так же работает.\n",
    "\n",
    "Посмотрев на зависимость городов и зарплата, получили, что без двух столиц медиана средней зарплаты, находиться на `60_000` рублей, в то время как в `Москве` и `Петербурге` она составляет `105_000` и `90_000` соответственно. Получается что средня зарплата в столицах и регионах, отличается почти в `2 раза`. Так же размах зарплат в столицах на много больше чем в регионах.\n",
    "\n",
    "И в конце были найдены самые главные и часто повторяющиеся ключевые навыки и ключевые слова из описания вакансий. \n",
    "\n",
    "Сначала самые востребованные навыки по всем объявлениям. Так же по повторяющимся английским словам можно убедиться, что такие навыки как `sql`, `excel`, `powerpoint`, `python`, `uml` и другие дублируют самые часто встречающиеся ключевые умения. Таблица повторяющихся русских слов дает только общее понимание, и служит скорее для иллюстрации какой опыт и `soft skills` востребованы на рынке труда.\n",
    "\n",
    "Затем ключевые требования для каждой из 4 уровней специалистов:\n",
    "- junior - \"Нет опыта\"\n",
    "- middle - \"От 1 года до 3 лет\"\n",
    "- senior - \"От 3 до 6 лет\"\n",
    "- lead - \"Более 6 лет\"\n",
    "\n",
    "Так например, для `JUNIOR` позиций ключевые навыки более общие и скорее направлены на понимание и обучаемость кандидата. А начиная с `MIDDLE` требования приобретают конкретику. Такие требования как: `пользователь пк`, `поиск информации в интернет`, `грамотная речь` вообще не попадают в топ 10 самых частых в вакансиях выше начального уровня. \n",
    "\n",
    "Так же из интересного можно заметить как слово `опыт` поднимается снизу у JUNIOR в верх у более опытных уровней.\n",
    "\n",
    "Из всего это можно сделать выводы, что куда расти `есть`, а главное, теперь можно с помощью анализа понять `куда расти`."
   ]
  }
 ],
 "metadata": {
  "kernelspec": {
   "display_name": "Python 3",
   "language": "python",
   "name": "python3"
  },
  "language_info": {
   "codemirror_mode": {
    "name": "ipython",
    "version": 3
   },
   "file_extension": ".py",
   "mimetype": "text/x-python",
   "name": "python",
   "nbconvert_exporter": "python",
   "pygments_lexer": "ipython3",
   "version": "3.7.12"
  },
  "papermill": {
   "default_parameters": {},
   "duration": 282.21279,
   "end_time": "2022-11-22T10:53:02.034532",
   "environment_variables": {},
   "exception": null,
   "input_path": "__notebook__.ipynb",
   "output_path": "__notebook__.ipynb",
   "parameters": {},
   "start_time": "2022-11-22T10:48:19.821742",
   "version": "2.3.4"
  }
 },
 "nbformat": 4,
 "nbformat_minor": 5
}
